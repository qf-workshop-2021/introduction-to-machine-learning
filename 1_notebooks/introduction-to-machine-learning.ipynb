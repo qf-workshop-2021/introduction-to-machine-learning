{
 "cells": [
  {
   "cell_type": "markdown",
   "metadata": {},
   "source": [
    "<table align=\"left\">\n",
    "  <td>\n",
    "    <a target=\"_blank\" href=\"https://colab.research.google.com/github/qf-workshop-2021/introduction-to-machine-learning/blob/main/1_notebooks/introduction-to-machine-learning.ipynb\">\n",
    "        <img src=\"https://www.tensorflow.org/images/colab_logo_32px.png\" />Run in Google Colab</a>\n",
    "  </td>\n",
    "</table>"
   ]
  },
  {
   "cell_type": "markdown",
   "metadata": {},
   "source": [
    "# Learning Tools"
   ]
  },
  {
   "cell_type": "markdown",
   "metadata": {},
   "source": [
    "## Books Reference\n",
    "\n",
    "These introductory lessons assume a basic level of statistical and mathematical knowledge. No previous knowledge of Machine Learning is assumed. For this reason I have decided to use two basic texts for the preparation of these lessons that you can consult for further details on the topics we are going to deal with.\n",
    "\n",
    "- John C. Hull, **Machine Learning in Business, An Introduction to the World of Data Science**, Amazon (2019)\n",
    "\n",
    "- Paul Wilmott}, **Machine Learning, An Applied Mathematics Introduction**, Panda Ohana Publishing (2019)"
   ]
  },
  {
   "cell_type": "markdown",
   "metadata": {},
   "source": [
    "## A Few Words on Google Colab"
   ]
  },
  {
   "cell_type": "markdown",
   "metadata": {},
   "source": [
    "Although it is not essential to work in a colab environment (all the course notebooks are in fact designed to be able to run without problems locally on your pc), it is useful to know some basic elements of the interaction with colab. In particular, in the cells below you will find two examples for the use of external files. In the first case it is shown how to load a text file from your local PC into the google virtual machine. The second example relates to the opposite operation: let's create a simple pandas dataframe into the colab environment and export it in csv format to the local machine."
   ]
  },
  {
   "cell_type": "markdown",
   "metadata": {},
   "source": [
    "### How Upload a File on Google Colab"
   ]
  },
  {
   "cell_type": "code",
   "execution_count": 1,
   "metadata": {},
   "outputs": [],
   "source": [
    "if 'google.colab' in str(get_ipython()):\n",
    "    from google.colab import files\n",
    "    uploaded = files.upload()\n",
    "    path = ''\n",
    "else:\n",
    "    path = './data/'"
   ]
  },
  {
   "cell_type": "code",
   "execution_count": 2,
   "metadata": {},
   "outputs": [
    {
     "data": {
      "text/plain": [
       "\"[Alice's Adventures in Wonderland by Lewis Carroll 1865]\\n\\nCHAPTER I. Down the Rabbit-Hole\\n\\nAlice was beginning to get very tired of sitting by her sister on the\\nbank, and of having nothing to do: once or twice she had peeped into the\\nbook her sister was reading, but it had no pictures or conversations in\\nit, 'and what is the use of a book,' thought Alice 'without pictures or\\nconversation?'\""
      ]
     },
     "execution_count": 2,
     "metadata": {},
     "output_type": "execute_result"
    }
   ],
   "source": [
    "with open(path + \"carroll-alice.txt\", \"r\") as f:\n",
    "    alice = f.read()\n",
    "    \n",
    "alice[:392]    "
   ]
  },
  {
   "cell_type": "markdown",
   "metadata": {},
   "source": [
    "### How Download a File on Google Colab"
   ]
  },
  {
   "cell_type": "code",
   "execution_count": 3,
   "metadata": {},
   "outputs": [],
   "source": [
    "import pandas as pd\n",
    "\n",
    "cars = {'Brand': ['Honda Civic','Toyota Corolla','Ford Focus','Audi A4'],\n",
    "        'Price': [22000,25000,27000,35000]\n",
    "        }\n",
    "\n",
    "df = pd.DataFrame(cars, columns= ['Brand', 'Price'])"
   ]
  },
  {
   "cell_type": "code",
   "execution_count": 4,
   "metadata": {},
   "outputs": [],
   "source": [
    "if 'google.colab' in str(get_ipython()):\n",
    "    # if we run in google environment first we save in virtual machine...\n",
    "    df.to_csv ('export_dataframe.csv', index = False, header=True)\n",
    "    # ...then we download to local machine\n",
    "    from google.colab import files\n",
    "    files.download(\"export_dataframe.csv\")    \n",
    "else:\n",
    "    # if we are working in local we save directly with the usual method\n",
    "    df.to_csv ('./data/export_dataframe.csv', index = False, header=True)"
   ]
  },
  {
   "cell_type": "markdown",
   "metadata": {},
   "source": [
    "# General Ideas"
   ]
  },
  {
   "cell_type": "markdown",
   "metadata": {},
   "source": [
    "## What is Machine Learning?\n",
    "\n",
    "Two definitions of Machine Learning are offered. [Arthur Samuel](https://en.wikipedia.org/wiki/Arthur_Samuel) described it as: \"the field of study that gives computers the ability to learn without being explicitly programmed.\" This is an older, informal definition.\n",
    "\n",
    "Tom Mitchell provides a more modern definition: \"A computer program is said to learn from experience E with respect to some class of tasks T and performance measure P, if its performance at tasks in T, as measured by P, improves with experience E.\"\n",
    "\n",
    "Example: playing checkers.\n",
    "\n",
    "E = the experience of playing many games of checkers\n",
    "\n",
    "T = the task of playing checkers.\n",
    "\n",
    "P = the probability that the program will win the next game.\n",
    "\n",
    "\n",
    "To use machine learning effectively **you have to understand how the underlying algorithms work**. It is tempting to learn a language such as Python or R and apply various packages to your data without really understanding what the packages are doing or even how the results should be interpreted. This would be a bit like a finance specialist using the Black and Scholes model to value options without understanding where it comes from or its limitations.\n",
    "\n",
    "\n",
    "### Type of Machine Learning Models ###\n",
    "\n",
    "There are four main categories of machine learning models:\n",
    "\n",
    "- Supervised Learning\n",
    "- Unsupervised Learning\n",
    "- Semi-Supervised Learning\n",
    "- Reinforcement Learning \n",
    "\n",
    "Supervised learning is concerned with using data to make predictions. We can distinguish between supervised learning models that are used to predict a variable and models that are used for classification. \n",
    "\n",
    "Unsupervised learning is concerned with recognizing patterns in data. The main object is not to forecast a particular variable, rather it is to understand the data environment better.\n",
    "\n",
    "### Jargon\n",
    "\n",
    "The data for supervised learning contains whare are referred to as **features** and **labels**. The **labels** are the values of the target that is to be predicted. The **features** are the variables from which the predictions are to be made. For example when predicting the price of a house the **features** could be the swuare meters of living space, the number of bedrooms, the number of bathrooms, the size of the garage and so on. The **label** would be the house price.\n",
    "\n",
    "The data for unsupervised learning consists of features but no labels because the model is being used to identify patterns not to forecast something.\n",
    "\n",
    "### Type of Data ###\n",
    "\n",
    "There are two types of data:\n",
    "\n",
    "- Numerical\n",
    "- Categorical\n",
    "\n",
    "Numerical data consists of numbers. Categorical data is data which can fall into a number of different categories, for example data to predict a house price might categorize driveways as asphalt, concrete, grass, etc. Categorical data must be converted to numbers for the purposes of analysis. \n",
    "\n",
    "The standard way of dealing with categorical features is to create a dummy variable for each category. The value of this variable is 1 if the feature is in the category and 0 otherwise. For example in the situation in which individuals are categorized as male or female, we could create two dummy variables. For man the first dummy variable would be 1 and the second would be 0. The opposite for women. This procedure is appropriate when there is no natural ordering between the feature values.\n",
    "\n",
    "When there is a natural ordering, we can reflect this in the numbers assigned. For example if the size of an order is classified as small, medium or large, we can replace the feature by a numerical variable where *small = 1*, *medium = 2* and *large = 3*."
   ]
  },
  {
   "cell_type": "markdown",
   "metadata": {},
   "source": [
    "## Feature Normalization"
   ]
  },
  {
   "cell_type": "markdown",
   "metadata": {},
   "source": [
    "The success of a machine learning algorithm highly depends on the quality of the data fed into the model. Real-world data is often dirty containing outliers, missing values, wrong data types, irrelevant features, or non-standardized data. The presence of any of these will prevent the machine learning model to properly learn. For this reason, transforming raw data into a useful format is an essential stage in the machine learning process. One technique you will come across multiple times when pre-processing data is feature normalization.\n",
    "\n",
    "Data Normalization is a common practice in machine learning which consists of transforming numeric columns to a common scale. In machine learning, some feature values differ from others multiple times. The features with higher values will dominate the leaning process. However, it does not mean those variables are more important to predict the outcome of the model. Data normalization transforms multiscaled data to the same scale. After normalization, all variables have a similar influence on the model, improving the stability and performance of the learning algorithm.\n",
    "\n",
    "There are multiple normalization techniques in statistics. In this notebook, we will cover the most important ones:\n",
    "\n",
    "- The maximum absolute scaling\n",
    "- The min-max feature scaling\n",
    "- The z-score method"
   ]
  },
  {
   "cell_type": "markdown",
   "metadata": {},
   "source": [
    "### The maximum absolute scaling\n",
    "\n",
    "The maximum absolute scaling rescales each feature between -1 and 1 by dividing every observation by its maximum absolute value.\n",
    "\n",
    "$$\n",
    "x_{new} = \\frac{x_{old}}{\\max \\vert x_{old} \\vert}\n",
    "$$"
   ]
  },
  {
   "cell_type": "markdown",
   "metadata": {},
   "source": [
    "### The min-max feature scaling\n",
    "\n",
    "The min-max approach (often called normalization) rescales the feature to a fixed range of [0,1] by subtracting the minimum value of the feature and then dividing by the range:\n",
    "\n",
    "$$\n",
    "x_{new} = \\frac{x_{old}-x_{min}}{x_{max}-x_{min}}\n",
    "$$"
   ]
  },
  {
   "cell_type": "markdown",
   "metadata": {},
   "source": [
    "### Z-Score\n",
    "\n",
    "The z-score method (often called standardization) transforms the data into a distribution with a mean of 0 and a standard deviation of 1. Each standardized value is computed by subtracting the mean of the corresponding feature and then dividing by the standard deviation.\n",
    "\n",
    "$$\n",
    "x_{new} = \\frac{x_{old} - \\mu}{\\sigma}\n",
    "$$\n",
    "\n",
    "Unlike min-max scaling, the z-score does not rescale the feature to a fixed range. The z-score typically ranges from -3.00 to 3.00 (more than 99% of the data) if the input is normally distributed.\n",
    "\n",
    "It is important to bear in mind that z-scores are not necessarily normally distributed. They just scale the data and follow the same distribution as the original input. This transformed distribution has a mean of 0 and a standard deviation of 1 and is going to be the standard normal distribution only if the input feature follows a normal distribution."
   ]
  },
  {
   "cell_type": "markdown",
   "metadata": {},
   "source": [
    "## Cost Functions \n",
    "\n",
    "\n",
    "### Linear Cost Function \n",
    "\n",
    "In Machine Learning a cost function or loss function is used to represent how far away a mathematical model is from the real data. One adjusts the mathematical model, usually by varying parameters within the model, so as to minimize the cost function. \n",
    "\n",
    "Let's take for example the simple case of a linear fitting. We want to find a relationship of the form \n",
    "\n",
    "\\begin{equation}\n",
    "y=\\theta_0 +\\theta_1x\n",
    "\\end{equation}\n",
    "\n",
    "where the $\\theta$s are the parameters that we want to find to give us the best fit to the data. We call this linear function $h_\\theta(x)$ to emphasize the dependence on both the variable $x$ and the two parameters $\\theta_0$ and $\\theta_1$.\n",
    "\n",
    "\n",
    "We want to measure how far away the data, the $y^{(n)}$s, are from the function $h_\\theta(x)$. A common way to do this is via the quadratic *cost function*\n",
    "\n",
    "\\begin{equation}\n",
    "J(\\mathbf{\\theta}) = \\frac{1}{2N} \\sum\\limits_{n=1}^N \\left[ h_\\theta \\left( x^{(n)} \\right) - y^{(n)} \\right]^2\n",
    "\\label{eq:ols}\n",
    "\\end{equation}\n",
    "\n",
    "This is called *Ordinary Least Squares*.\n",
    "\n",
    "In this case, the minimum is easily find analitically, differentiate $\\eqref{eq:ols}$ with respect to both $\\theta$s and set the result to zero:\n",
    "\n",
    "\\begin{equation}\n",
    "\\begin{array}{lcl} \n",
    "\\frac{\\partial J}{\\partial \\theta_0} & = & \\sum\\limits_{n=1}^N \\left( \\theta_0 + \\theta_1 x^{(n)} - y^{(n)} \\right) = 0 \n",
    "\\\\ \n",
    "\\frac{\\partial J}{\\partial \\theta_1} & = & \\sum\\limits_{n=1}^N x^{(n)} \\left( \\theta_0 + \\theta_1 x^{(n)} - y^{(n)} \\right) = 0 \n",
    "\\end{array}\n",
    "\\end{equation}\n",
    "\n",
    "The solution is trivially obtained for both $\\theta$s\n",
    "\n",
    "\\begin{equation}\n",
    "\\begin{array}{lcl} \n",
    "\\theta_0 = \\frac{\\left(\\sum y \\right) \\left(\\sum x^2 \\right) -\\left(\\sum x \\right) \\left(\\sum xy \\right) }{N\\left(\\sum x^2 \\right) \\left(\\sum x \\right)^2 } \n",
    "\\\\ \n",
    "\\theta_1 = \\frac{N\\left(\\sum xy \\right) - \\left(\\sum y \\right)\\left(\\sum x \\right)}{N\\left(\\sum x^2 \\right) \\left(\\sum x \\right)^2 }\n",
    "\\end{array}\n",
    "\\end{equation}\n",
    "\n",
    "\n"
   ]
  },
  {
   "cell_type": "markdown",
   "metadata": {},
   "source": [
    "## Gradient Descent\n",
    "\n",
    "The scheme works as follow: start with an initial guess for each parameter $\\theta_k$. Then move $\\theta_k$ in the direction of the slope:\n",
    "\n",
    "\\begin{equation}\n",
    "\\theta_k^{new} =\\theta_k^{old}+\\beta \\frac{\\partial J}{\\partial \\theta_k}\n",
    "\\end{equation}\n",
    "\n",
    "**Update all $\\theta_k$ simultaneously** and repet until convergence. Here $\\beta$ is a *learning factor* that governs how far you move. if $\\beta$ is too small it will take a long time to converge, if too large it will overshoot and might not converge at all. \n",
    "\n",
    "The loss function $J$ is a function of all of the data points. In the above description of gradient descent we have used all of the data points simultaneously. This is called *batch gradient* descent. But rather than use all of the data in the parameter updating we can use a technique called *stochastic gradient descent*. This is like batch gradient descent except that you only update using *one* of the data points each time. And that data point is chosen randomly.\n",
    "\n",
    "\\begin{equation}\n",
    "J(\\mathbf{\\theta}) = \\sum\\limits_{n=1}^N J_n(\\mathbf{\\theta})\n",
    "\\end{equation}\n",
    "\n",
    "Stochastic gradient descent means pick an *n* at random and then update according to \n",
    "\n",
    "\\begin{equation}\n",
    "\\theta_k^{new} =\\theta_k^{old}+\\beta \\frac{\\partial J_n}{\\partial \\theta_k}\n",
    "\\end{equation}\n",
    "\n",
    "Repeat, picking another data point at random, etc."
   ]
  },
  {
   "cell_type": "markdown",
   "metadata": {},
   "source": [
    "An important parameter in Gradient Descent is the size of the steps, determined by\n",
    "the learning rate hyperparameter. "
   ]
  },
  {
   "cell_type": "markdown",
   "metadata": {},
   "source": [
    "<!--\n",
    "<div>\n",
    "<img src=\"pic_50.png\" width=\"600\"/>\n",
    "</div>\n",
    "-->\n",
    "![caption](pic_50.png)"
   ]
  },
  {
   "cell_type": "markdown",
   "metadata": {},
   "source": [
    "If the learning rate is too small, then the algorithm\n",
    "will have to go through many iterations to converge, which will take a long time..."
   ]
  },
  {
   "cell_type": "markdown",
   "metadata": {},
   "source": [
    "<!--\n",
    "<div>\n",
    "<img src=\"pic_51.png\" width=\"600\"/>\n",
    "</div>\n",
    "-->\n",
    "![caption](pic_51.png)"
   ]
  },
  {
   "cell_type": "markdown",
   "metadata": {},
   "source": [
    "... on the other hand, if the learning rate is too high, you might jump across the valley. This might make the algorithm diverge failing to find a good solution. "
   ]
  },
  {
   "cell_type": "markdown",
   "metadata": {},
   "source": [
    "<!--\n",
    "<div>\n",
    "<img src=\"pic_52.png\" width=\"600\"/>\n",
    "</div>\n",
    "-->\n",
    "![caption](pic_52.png)"
   ]
  },
  {
   "cell_type": "markdown",
   "metadata": {},
   "source": [
    "## Validation and Testing \n",
    "\n",
    "When data is used for forecasting there is a danger that the machine learning model will work very well for data, but will not generalize well to other data. An obvious point is that it is important that the data used in a machine learning model be representative of the situations to which the model is to be applied. It is also important to test a model out-of-sample, by this we mean that the model should be tested on data that is different from the sample data used to determine the parameters of the model.\n",
    "\n",
    "Data scientist refer to the sample data as the **training set** and the data used to determine the accuracy of the model as the **test set**, often a **validation set** is used as well as we explain later;"
   ]
  },
  {
   "cell_type": "code",
   "execution_count": 5,
   "metadata": {},
   "outputs": [],
   "source": [
    "if 'google.colab' in str(get_ipython()):\n",
    "    from google.colab import files\n",
    "    uploaded = files.upload()\n",
    "    path = ''\n",
    "else:\n",
    "    path = './data/'"
   ]
  },
  {
   "cell_type": "code",
   "execution_count": 6,
   "metadata": {},
   "outputs": [
    {
     "name": "stdout",
     "output_type": "stream",
     "text": [
      "   Age  Salary\n",
      "0   25  135000\n",
      "1   27  105000\n",
      "2   30  105000\n",
      "3   35  220000\n",
      "4   40  300000\n"
     ]
    }
   ],
   "source": [
    "# Load the Pandas libraries with alias 'pd' \n",
    "import pandas as pd \n",
    "# Read data from file 'salary_vs_age_1.csv' \n",
    "# (in the same directory that your python process is based)\n",
    "# Control delimiters, with read_table \n",
    "df1 = pd.read_table(path + \"salary_vs_age_1.csv\", sep=\";\") \n",
    "# Preview the first 5 lines of the loaded data \n",
    "print(df1.head())"
   ]
  },
  {
   "cell_type": "code",
   "execution_count": 7,
   "metadata": {},
   "outputs": [
    {
     "data": {
      "image/png": "[encoded data removed]",
      "text/plain": [
       "<Figure size 720x288 with 1 Axes>"
      ]
     },
     "metadata": {
      "needs_background": "light"
     },
     "output_type": "display_data"
    }
   ],
   "source": [
    "import matplotlib.pyplot as plt\n",
    "\n",
    "plt.rcParams['figure.figsize'] = [10, 4]\n",
    "ax=plt.gca()\n",
    "\n",
    "df1.plot(x ='Age', y='Salary', kind = 'scatter', ax=ax)\n",
    "plt.show()"
   ]
  },
  {
   "cell_type": "markdown",
   "metadata": {},
   "source": [
    "[polynomial fitting with pandas](https://joshualoong.com/2018/10/03/Fitting-Polynomial-Regressions-in-Python/)"
   ]
  },
  {
   "cell_type": "code",
   "execution_count": 8,
   "metadata": {},
   "outputs": [
    {
     "data": {
      "image/png": "[encoded data removed]",
      "text/plain": [
       "<Figure size 720x288 with 1 Axes>"
      ]
     },
     "metadata": {
      "needs_background": "light"
     },
     "output_type": "display_data"
    }
   ],
   "source": [
    "import numpy as np\n",
    "\n",
    "x1 = df1['Age']\n",
    "y1 = df1['Salary']\n",
    "\n",
    "n = len(x1)\n",
    "\n",
    "degree = 5\n",
    "\n",
    "weights = np.polyfit(x1, y1, degree)\n",
    "model   = np.poly1d(weights)\n",
    "\n",
    "xx1 = np.arange(x1[0], x1[n-1], 0.1)\n",
    "plt.plot(xx1, model(xx1))\n",
    "plt.xlabel(\"Age\")\n",
    "plt.ylabel(\"Salary\")\n",
    "plt.scatter(x1,y1, color='red')\n",
    "plt.show()"
   ]
  },
  {
   "cell_type": "code",
   "execution_count": 9,
   "metadata": {},
   "outputs": [
    {
     "name": "stdout",
     "output_type": "stream",
     "text": [
      "Root Mean Square Error:\n",
      "12902.203044361002\n"
     ]
    }
   ],
   "source": [
    "y1  = np.array(y1)\n",
    "yy1 = np.array(model(x1))\n",
    "\n",
    "rmse = np.sqrt(np.sum((y1-yy1)**2)/(n-1)) \n",
    "\n",
    "print('Root Mean Square Error:')\n",
    "print(rmse)"
   ]
  },
  {
   "cell_type": "code",
   "execution_count": 10,
   "metadata": {},
   "outputs": [],
   "source": [
    "if 'google.colab' in str(get_ipython()):\n",
    "    from google.colab import files\n",
    "    uploaded = files.upload()\n",
    "    path = ''\n",
    "else:\n",
    "    path = './data/'"
   ]
  },
  {
   "cell_type": "code",
   "execution_count": 11,
   "metadata": {},
   "outputs": [
    {
     "name": "stdout",
     "output_type": "stream",
     "text": [
      "Root Mean Square Error:\n",
      "38825.22050917512\n"
     ]
    }
   ],
   "source": [
    "df2 = pd.read_table(path + \"salary_vs_age_2.csv\", sep=\";\") \n",
    "x2 = df2['Age']\n",
    "y2 = df2['Salary']\n",
    "n  = len(x2)\n",
    "\n",
    "y2  = np.array(y2)\n",
    "yy2 = np.array(model(x2))\n",
    "\n",
    "rmse = np.sqrt(np.sum((y2-yy2)**2)/(n-1)) \n",
    "\n",
    "print('Root Mean Square Error:')\n",
    "print(rmse)"
   ]
  },
  {
   "cell_type": "code",
   "execution_count": 12,
   "metadata": {},
   "outputs": [
    {
     "data": {
      "image/png": "[encoded data removed]",
      "text/plain": [
       "<Figure size 720x288 with 1 Axes>"
      ]
     },
     "metadata": {
      "needs_background": "light"
     },
     "output_type": "display_data"
    }
   ],
   "source": [
    "xx2 = np.arange(x2[0], x2[n-1], 0.1)\n",
    "plt.plot(xx2, model(xx2))\n",
    "plt.xlabel(\"Age\")\n",
    "plt.ylabel(\"Salary\")\n",
    "plt.scatter(x2,y2, color='red')\n",
    "plt.show()"
   ]
  },
  {
   "cell_type": "markdown",
   "metadata": {},
   "source": [
    "- The root mean squared error (rmse) for the training      data set is \\$12,902\n",
    "- The rmse for the test data set is \\$38,794\n",
    "\n",
    "We conclude that the model overfits the data. The complexity of the model should be increased only until out-of-sample tests indicate that it does not generalize well."
   ]
  },
  {
   "cell_type": "markdown",
   "metadata": {},
   "source": [
    "## Bias and Variance\n",
    "\n",
    "Suppose there is a relationship between an independent variable $x$ and a dependent variable $y$:\n",
    "\n",
    "\\begin{equation}\n",
    "    y=f(x) + \\epsilon\n",
    "\\end{equation}\n",
    "\n",
    "Where $\\epsilon$ is an error term with mean zero and variance $\\sigma^2$. The error term captures either genuine randomness in the data or noise due to measurement error.\n",
    "\n",
    "Suppose we find a deterministic model for this relationship:\n",
    "\n",
    "\\begin{equation}\n",
    "    y = \\hat f(x)\n",
    "\\end{equation}\n",
    "\n",
    "Now it comes a new data point $x^\\prime$ not in the training set and we want to predict the corresponding $y^\\prime$. The error we will observe in our model at point $x^\\prime$ is going to be\n",
    "\n",
    "\\begin{equation}\n",
    "    \\hat f(x^\\prime) - f(x^\\prime) - \\epsilon\n",
    "\\end{equation}\n",
    "\n",
    "There are two different sources of error in this equation. The first one is included in the factor $\\epsilon$, the second one, more interesting, is due to what is in our training set. A robust model should give us the same prediction whatever data we used for training out model. Let's look at the average error:\n",
    "\n",
    "\\begin{equation}\n",
    "E \\left[ \\hat f (x^\\prime ) \\right] - f(x^\\prime)\n",
    "\\end{equation}\n",
    "\n",
    "where the expectation is taken over random samples of training data (having the same distributio as the training data). \n",
    "\n",
    "This is the definition of the **bias**\n",
    "\n",
    "\\begin{equation}\n",
    "    \\textrm{Bias} \\left[\\hat f (x^\\prime) \\right] = E \\left[ \\hat f (x^\\prime ) \\right] - f(x^\\prime)\n",
    "\\end{equation}\n",
    "\n",
    "We can also look at the mean square error\n",
    "\n",
    "\\begin{equation}\n",
    "E \\left[\\left( \\hat f (x^\\prime ) - f(x^\\prime) - \\epsilon \\right)^2\\right] =\n",
    "\\left[ \\textrm{Bias} \\left( \\hat f(x^\\prime) \\right) \\right]^2 + \\textrm{Var}\\left[ \\hat f(x^\\prime) \\right] + \\sigma^2\n",
    "\\end{equation}\n",
    "\n",
    "Where we remember that $\\hat f (x^\\prime)$ and $\\epsilon$ are independent.\n",
    "\n",
    "This show us that there are two important quantities, the **bias** and the **variance** that will affect our results and that we can control to some extent. "
   ]
  },
  {
   "cell_type": "markdown",
   "metadata": {},
   "source": [
    "**FIGURE 1.1 - A good model should have low bias and low variance**"
   ]
  },
  {
   "cell_type": "markdown",
   "metadata": {
    "id": "zoo3dlmRGkYb"
   },
   "source": [
    "<!--\n",
    "<div>\n",
    "<img src=\"bias_and_variance_1.png\" width=\"600\"/>\n",
    "</div>\n",
    "-->\n",
    "![caption](bias_and_variance_1.png)"
   ]
  },
  {
   "cell_type": "markdown",
   "metadata": {},
   "source": [
    "**Bias is how far away the trained model is from the correct result on average**. Where *on average* means over many goes at training the model using different data. And **Variance is a measure of the magnitude of that error**.\n",
    "\n",
    "\n",
    "Unfortunately, we often find that there is a trade-off between bias and variance. As one is reduced, the other is increased. This is the matter of over- and under-fitting.\n",
    "\n",
    "**Overfitting is when we train our algorithm too well on training data, perhaps having too many parameters for fitting**.\n"
   ]
  },
  {
   "cell_type": "markdown",
   "metadata": {},
   "source": [
    "<!--\n",
    "<div>\n",
    "<img src=\"bias_and_variance_2.png\" width=\"600\"/>\n",
    "</div>\n",
    "-->\n",
    "![caption](bias_and_variance_2.png)"
   ]
  },
  {
   "cell_type": "markdown",
   "metadata": {},
   "source": [
    "## Regularization\n",
    "\n",
    "### Ridge Regression \n",
    "\n",
    "\n",
    "\n"
   ]
  },
  {
   "cell_type": "markdown",
   "metadata": {},
   "source": [
    "Ridge regression is a regularization technique where we change the function that is to be minimize. Reduce magnitude of regression coefficients by choosing a parameter $\\lambda$ and minimizing\n",
    "\t\t\n",
    "\\begin{equation}\n",
    "\t\t\\frac{1}{2N} \\sum\\limits_{n=1}^N \\left[h_\\theta \\left( x^{(n)} \\right) - y ^{(n)}\\right]^2\t+ \\lambda \\sum\\limits_{n=1}^N b_i^2 \\notag\n",
    "\\end{equation}\n",
    "\n",
    "This change has the effect of encouraging the model to keep the weights $b_j$ as small as possibile. The Ridge regression should only be used for determining model parameters using the training set. Once the model parameters have been determined the penalty term should be removed for prediction."
   ]
  },
  {
   "cell_type": "code",
   "execution_count": 13,
   "metadata": {},
   "outputs": [
    {
     "data": {
      "text/html": [
       "<div>\n",
       "<style scoped>\n",
       "    .dataframe tbody tr th:only-of-type {\n",
       "        vertical-align: middle;\n",
       "    }\n",
       "\n",
       "    .dataframe tbody tr th {\n",
       "        vertical-align: top;\n",
       "    }\n",
       "\n",
       "    .dataframe thead th {\n",
       "        text-align: right;\n",
       "    }\n",
       "</style>\n",
       "<table border=\"1\" class=\"dataframe\">\n",
       "  <thead>\n",
       "    <tr style=\"text-align: right;\">\n",
       "      <th></th>\n",
       "      <th>Salary</th>\n",
       "      <th>Age</th>\n",
       "    </tr>\n",
       "  </thead>\n",
       "  <tbody>\n",
       "    <tr>\n",
       "      <th>0</th>\n",
       "      <td>135000</td>\n",
       "      <td>25</td>\n",
       "    </tr>\n",
       "    <tr>\n",
       "      <th>1</th>\n",
       "      <td>105000</td>\n",
       "      <td>27</td>\n",
       "    </tr>\n",
       "    <tr>\n",
       "      <th>2</th>\n",
       "      <td>105000</td>\n",
       "      <td>30</td>\n",
       "    </tr>\n",
       "    <tr>\n",
       "      <th>3</th>\n",
       "      <td>220000</td>\n",
       "      <td>35</td>\n",
       "    </tr>\n",
       "    <tr>\n",
       "      <th>4</th>\n",
       "      <td>300000</td>\n",
       "      <td>40</td>\n",
       "    </tr>\n",
       "    <tr>\n",
       "      <th>5</th>\n",
       "      <td>270000</td>\n",
       "      <td>45</td>\n",
       "    </tr>\n",
       "    <tr>\n",
       "      <th>6</th>\n",
       "      <td>265000</td>\n",
       "      <td>50</td>\n",
       "    </tr>\n",
       "    <tr>\n",
       "      <th>7</th>\n",
       "      <td>260000</td>\n",
       "      <td>55</td>\n",
       "    </tr>\n",
       "    <tr>\n",
       "      <th>8</th>\n",
       "      <td>240000</td>\n",
       "      <td>60</td>\n",
       "    </tr>\n",
       "    <tr>\n",
       "      <th>9</th>\n",
       "      <td>265000</td>\n",
       "      <td>65</td>\n",
       "    </tr>\n",
       "  </tbody>\n",
       "</table>\n",
       "</div>"
      ],
      "text/plain": [
       "   Salary  Age\n",
       "0  135000   25\n",
       "1  105000   27\n",
       "2  105000   30\n",
       "3  220000   35\n",
       "4  300000   40\n",
       "5  270000   45\n",
       "6  265000   50\n",
       "7  260000   55\n",
       "8  240000   60\n",
       "9  265000   65"
      ]
     },
     "execution_count": 13,
     "metadata": {},
     "output_type": "execute_result"
    }
   ],
   "source": [
    "columns_titles = [\"Salary\",\"Age\"]\n",
    "df2=df1.reindex(columns=columns_titles)\n",
    "df2"
   ]
  },
  {
   "cell_type": "code",
   "execution_count": 14,
   "metadata": {},
   "outputs": [
    {
     "data": {
      "text/html": [
       "<div>\n",
       "<style scoped>\n",
       "    .dataframe tbody tr th:only-of-type {\n",
       "        vertical-align: middle;\n",
       "    }\n",
       "\n",
       "    .dataframe tbody tr th {\n",
       "        vertical-align: top;\n",
       "    }\n",
       "\n",
       "    .dataframe thead th {\n",
       "        text-align: right;\n",
       "    }\n",
       "</style>\n",
       "<table border=\"1\" class=\"dataframe\">\n",
       "  <thead>\n",
       "    <tr style=\"text-align: right;\">\n",
       "      <th></th>\n",
       "      <th>Salary</th>\n",
       "      <th>Age</th>\n",
       "      <th>Age2</th>\n",
       "      <th>Age3</th>\n",
       "      <th>Age4</th>\n",
       "      <th>Age5</th>\n",
       "    </tr>\n",
       "  </thead>\n",
       "  <tbody>\n",
       "    <tr>\n",
       "      <th>0</th>\n",
       "      <td>135.0</td>\n",
       "      <td>25</td>\n",
       "      <td>625</td>\n",
       "      <td>15625</td>\n",
       "      <td>390625</td>\n",
       "      <td>9765625</td>\n",
       "    </tr>\n",
       "    <tr>\n",
       "      <th>1</th>\n",
       "      <td>105.0</td>\n",
       "      <td>27</td>\n",
       "      <td>729</td>\n",
       "      <td>19683</td>\n",
       "      <td>531441</td>\n",
       "      <td>14348907</td>\n",
       "    </tr>\n",
       "    <tr>\n",
       "      <th>2</th>\n",
       "      <td>105.0</td>\n",
       "      <td>30</td>\n",
       "      <td>900</td>\n",
       "      <td>27000</td>\n",
       "      <td>810000</td>\n",
       "      <td>24300000</td>\n",
       "    </tr>\n",
       "    <tr>\n",
       "      <th>3</th>\n",
       "      <td>220.0</td>\n",
       "      <td>35</td>\n",
       "      <td>1225</td>\n",
       "      <td>42875</td>\n",
       "      <td>1500625</td>\n",
       "      <td>52521875</td>\n",
       "    </tr>\n",
       "    <tr>\n",
       "      <th>4</th>\n",
       "      <td>300.0</td>\n",
       "      <td>40</td>\n",
       "      <td>1600</td>\n",
       "      <td>64000</td>\n",
       "      <td>2560000</td>\n",
       "      <td>102400000</td>\n",
       "    </tr>\n",
       "    <tr>\n",
       "      <th>5</th>\n",
       "      <td>270.0</td>\n",
       "      <td>45</td>\n",
       "      <td>2025</td>\n",
       "      <td>91125</td>\n",
       "      <td>4100625</td>\n",
       "      <td>184528125</td>\n",
       "    </tr>\n",
       "    <tr>\n",
       "      <th>6</th>\n",
       "      <td>265.0</td>\n",
       "      <td>50</td>\n",
       "      <td>2500</td>\n",
       "      <td>125000</td>\n",
       "      <td>6250000</td>\n",
       "      <td>312500000</td>\n",
       "    </tr>\n",
       "    <tr>\n",
       "      <th>7</th>\n",
       "      <td>260.0</td>\n",
       "      <td>55</td>\n",
       "      <td>3025</td>\n",
       "      <td>166375</td>\n",
       "      <td>9150625</td>\n",
       "      <td>503284375</td>\n",
       "    </tr>\n",
       "    <tr>\n",
       "      <th>8</th>\n",
       "      <td>240.0</td>\n",
       "      <td>60</td>\n",
       "      <td>3600</td>\n",
       "      <td>216000</td>\n",
       "      <td>12960000</td>\n",
       "      <td>777600000</td>\n",
       "    </tr>\n",
       "    <tr>\n",
       "      <th>9</th>\n",
       "      <td>265.0</td>\n",
       "      <td>65</td>\n",
       "      <td>4225</td>\n",
       "      <td>274625</td>\n",
       "      <td>17850625</td>\n",
       "      <td>1160290625</td>\n",
       "    </tr>\n",
       "  </tbody>\n",
       "</table>\n",
       "</div>"
      ],
      "text/plain": [
       "   Salary  Age  Age2    Age3      Age4        Age5\n",
       "0   135.0   25   625   15625    390625     9765625\n",
       "1   105.0   27   729   19683    531441    14348907\n",
       "2   105.0   30   900   27000    810000    24300000\n",
       "3   220.0   35  1225   42875   1500625    52521875\n",
       "4   300.0   40  1600   64000   2560000   102400000\n",
       "5   270.0   45  2025   91125   4100625   184528125\n",
       "6   265.0   50  2500  125000   6250000   312500000\n",
       "7   260.0   55  3025  166375   9150625   503284375\n",
       "8   240.0   60  3600  216000  12960000   777600000\n",
       "9   265.0   65  4225  274625  17850625  1160290625"
      ]
     },
     "execution_count": 14,
     "metadata": {},
     "output_type": "execute_result"
    }
   ],
   "source": [
    "df2['Salary'] = df2['Salary']/1000 \n",
    "df2['Age2']=df2['Age']**2\n",
    "df2['Age3']=df2['Age']**3\n",
    "df2['Age4']=df2['Age']**4\n",
    "df2['Age5']=df2['Age']**5\n",
    "df2"
   ]
  },
  {
   "cell_type": "markdown",
   "metadata": {},
   "source": [
    "We can compute the z-score in Pandas using the .mean() and std() methods."
   ]
  },
  {
   "cell_type": "code",
   "execution_count": 15,
   "metadata": {},
   "outputs": [
    {
     "data": {
      "text/html": [
       "<div>\n",
       "<style scoped>\n",
       "    .dataframe tbody tr th:only-of-type {\n",
       "        vertical-align: middle;\n",
       "    }\n",
       "\n",
       "    .dataframe tbody tr th {\n",
       "        vertical-align: top;\n",
       "    }\n",
       "\n",
       "    .dataframe thead th {\n",
       "        text-align: right;\n",
       "    }\n",
       "</style>\n",
       "<table border=\"1\" class=\"dataframe\">\n",
       "  <thead>\n",
       "    <tr style=\"text-align: right;\">\n",
       "      <th></th>\n",
       "      <th>Salary</th>\n",
       "      <th>Age</th>\n",
       "      <th>Age2</th>\n",
       "      <th>Age3</th>\n",
       "      <th>Age4</th>\n",
       "      <th>Age5</th>\n",
       "    </tr>\n",
       "  </thead>\n",
       "  <tbody>\n",
       "    <tr>\n",
       "      <th>0</th>\n",
       "      <td>135.0</td>\n",
       "      <td>-1.289948</td>\n",
       "      <td>-1.128109</td>\n",
       "      <td>-0.988322</td>\n",
       "      <td>-0.873562</td>\n",
       "      <td>-0.782128</td>\n",
       "    </tr>\n",
       "    <tr>\n",
       "      <th>1</th>\n",
       "      <td>105.0</td>\n",
       "      <td>-1.148195</td>\n",
       "      <td>-1.045510</td>\n",
       "      <td>-0.943059</td>\n",
       "      <td>-0.849996</td>\n",
       "      <td>-0.770351</td>\n",
       "    </tr>\n",
       "    <tr>\n",
       "      <th>2</th>\n",
       "      <td>105.0</td>\n",
       "      <td>-0.935566</td>\n",
       "      <td>-0.909699</td>\n",
       "      <td>-0.861444</td>\n",
       "      <td>-0.803378</td>\n",
       "      <td>-0.744782</td>\n",
       "    </tr>\n",
       "    <tr>\n",
       "      <th>3</th>\n",
       "      <td>220.0</td>\n",
       "      <td>-0.581185</td>\n",
       "      <td>-0.651577</td>\n",
       "      <td>-0.684372</td>\n",
       "      <td>-0.687799</td>\n",
       "      <td>-0.672266</td>\n",
       "    </tr>\n",
       "    <tr>\n",
       "      <th>4</th>\n",
       "      <td>300.0</td>\n",
       "      <td>-0.226804</td>\n",
       "      <td>-0.353745</td>\n",
       "      <td>-0.448740</td>\n",
       "      <td>-0.510508</td>\n",
       "      <td>-0.544103</td>\n",
       "    </tr>\n",
       "    <tr>\n",
       "      <th>5</th>\n",
       "      <td>270.0</td>\n",
       "      <td>0.127577</td>\n",
       "      <td>-0.016202</td>\n",
       "      <td>-0.146184</td>\n",
       "      <td>-0.252677</td>\n",
       "      <td>-0.333075</td>\n",
       "    </tr>\n",
       "    <tr>\n",
       "      <th>6</th>\n",
       "      <td>265.0</td>\n",
       "      <td>0.481958</td>\n",
       "      <td>0.361052</td>\n",
       "      <td>0.231663</td>\n",
       "      <td>0.107030</td>\n",
       "      <td>-0.004250</td>\n",
       "    </tr>\n",
       "    <tr>\n",
       "      <th>7</th>\n",
       "      <td>260.0</td>\n",
       "      <td>0.836340</td>\n",
       "      <td>0.778017</td>\n",
       "      <td>0.693166</td>\n",
       "      <td>0.592463</td>\n",
       "      <td>0.485972</td>\n",
       "    </tr>\n",
       "    <tr>\n",
       "      <th>8</th>\n",
       "      <td>240.0</td>\n",
       "      <td>1.190721</td>\n",
       "      <td>1.234693</td>\n",
       "      <td>1.246690</td>\n",
       "      <td>1.229979</td>\n",
       "      <td>1.190828</td>\n",
       "    </tr>\n",
       "    <tr>\n",
       "      <th>9</th>\n",
       "      <td>265.0</td>\n",
       "      <td>1.545102</td>\n",
       "      <td>1.731080</td>\n",
       "      <td>1.900602</td>\n",
       "      <td>2.048447</td>\n",
       "      <td>2.174155</td>\n",
       "    </tr>\n",
       "  </tbody>\n",
       "</table>\n",
       "</div>"
      ],
      "text/plain": [
       "   Salary       Age      Age2      Age3      Age4      Age5\n",
       "0   135.0 -1.289948 -1.128109 -0.988322 -0.873562 -0.782128\n",
       "1   105.0 -1.148195 -1.045510 -0.943059 -0.849996 -0.770351\n",
       "2   105.0 -0.935566 -0.909699 -0.861444 -0.803378 -0.744782\n",
       "3   220.0 -0.581185 -0.651577 -0.684372 -0.687799 -0.672266\n",
       "4   300.0 -0.226804 -0.353745 -0.448740 -0.510508 -0.544103\n",
       "5   270.0  0.127577 -0.016202 -0.146184 -0.252677 -0.333075\n",
       "6   265.0  0.481958  0.361052  0.231663  0.107030 -0.004250\n",
       "7   260.0  0.836340  0.778017  0.693166  0.592463  0.485972\n",
       "8   240.0  1.190721  1.234693  1.246690  1.229979  1.190828\n",
       "9   265.0  1.545102  1.731080  1.900602  2.048447  2.174155"
      ]
     },
     "execution_count": 15,
     "metadata": {},
     "output_type": "execute_result"
    }
   ],
   "source": [
    "# apply the z-score method in Pandas using the .mean() and .std() methods\n",
    "def z_score(df):\n",
    "    # copy the dataframe\n",
    "    df_std = df.copy()\n",
    "    # apply the z-score method\n",
    "    for column in df_std.columns:\n",
    "        df_std[column] = (df_std[column] - df_std[column].mean()) / df_std[column].std()\n",
    "        \n",
    "    return df_std\n",
    "    \n",
    "# call the z_score function\n",
    "df2_standard = z_score(df2)\n",
    "df2_standard['Salary'] = df2['Salary']\n",
    "df2_standard"
   ]
  },
  {
   "cell_type": "code",
   "execution_count": 16,
   "metadata": {},
   "outputs": [],
   "source": [
    "y = df2_standard['Salary']\n",
    "X = df2_standard.drop('Salary',axis=1)"
   ]
  },
  {
   "cell_type": "code",
   "execution_count": 17,
   "metadata": {},
   "outputs": [
    {
     "name": "stdout",
     "output_type": "stream",
     "text": [
      "Coefficients: \n",
      " [ -32622.57240727  135402.73116519 -215493.11781297  155314.61367273\n",
      "  -42558.76209732]\n",
      "Mean squared error: 149.82\n"
     ]
    }
   ],
   "source": [
    "from sklearn.linear_model import LinearRegression\n",
    "from sklearn.linear_model import Ridge\n",
    "from sklearn.metrics import mean_squared_error, r2_score\n",
    "\n",
    "lr = LinearRegression()\n",
    "lr.fit(X, y)\n",
    "\n",
    "y_pred = lr.predict(X)\n",
    "\n",
    "# The coefficients\n",
    "print('Coefficients: \\n', lr.coef_)\n",
    "# The mean squared error\n",
    "print('Mean squared error: %.2f'\n",
    "      % mean_squared_error(y, y_pred))\n"
   ]
  },
  {
   "cell_type": "code",
   "execution_count": 18,
   "metadata": {},
   "outputs": [
    {
     "data": {
      "image/png": "[encoded data removed]",
      "text/plain": [
       "<Figure size 720x288 with 1 Axes>"
      ]
     },
     "metadata": {},
     "output_type": "display_data"
    }
   ],
   "source": [
    "# Plot outputs\n",
    "plt.scatter(X['Age'], y,  color='black')\n",
    "plt.plot(X['Age'], y_pred, color='blue', linewidth=3)\n",
    "\n",
    "plt.xticks(())\n",
    "plt.yticks(())\n",
    "\n",
    "plt.show()"
   ]
  },
  {
   "cell_type": "code",
   "execution_count": 19,
   "metadata": {},
   "outputs": [],
   "source": [
    "rr = Ridge(alpha=0.1, normalize=True) \n",
    "# higher the alpha value, more restriction on the coefficients; low alpha > more generalization,\n",
    "# in this case linear and ridge regression resembles\n",
    "rr.fit(X, y)\n",
    "\n",
    "y_pred_r = rr.predict(X)\n"
   ]
  },
  {
   "cell_type": "code",
   "execution_count": 20,
   "metadata": {},
   "outputs": [
    {
     "data": {
      "image/png": "[encoded data removed]",
      "text/plain": [
       "<Figure size 720x288 with 1 Axes>"
      ]
     },
     "metadata": {},
     "output_type": "display_data"
    }
   ],
   "source": [
    "# Plot outputs\n",
    "plt.scatter(X['Age'], y,  color='black')\n",
    "plt.plot(X['Age'], y_pred_r, color='blue', linewidth=3)\n",
    "\n",
    "plt.xticks(())\n",
    "plt.yticks(())\n",
    "\n",
    "plt.show()"
   ]
  },
  {
   "cell_type": "code",
   "execution_count": 21,
   "metadata": {},
   "outputs": [
    {
     "name": "stdout",
     "output_type": "stream",
     "text": [
      "Coefficients: \n",
      " [ 59.22629315  29.03476514   3.29697763 -16.42544961 -30.17329953]\n",
      "Mean squared error: 1615.07\n"
     ]
    }
   ],
   "source": [
    "# The coefficients\n",
    "print('Coefficients: \\n', rr.coef_)\n",
    "# The mean squared error\n",
    "print('Mean squared error: %.2f'\n",
    "      % mean_squared_error(y, y_pred_r))"
   ]
  },
  {
   "cell_type": "markdown",
   "metadata": {},
   "source": [
    "### Lasso Regression\n",
    "\n"
   ]
  },
  {
   "cell_type": "markdown",
   "metadata": {},
   "source": [
    "Lasso is short for \\textit{Least Absolute Shrinkage and Selection Operator}. It is similar to ridge regression except we minimize\n",
    "\n",
    "\\begin{equation}\n",
    "\t\t\\frac{1}{2N} \\sum\\limits_{n=1}^N \\left[h_\\theta \\left( x^{(n)} \\right) - y ^{(n)}\\right]^2 + \\lambda \\sum\\limits_{n=1}^N \\vert b_n \\vert \\notag\n",
    "\\end{equation}\n",
    "\n",
    "This function cannot be minimized analytically and so a variation on the gradient descent algorithm must be used. Lasso regression also has the effect of simplifying the model. It does this by setting the weights of unimportant features to zero. When there are a large number of features, Lasso can identify a relatively small subset of the features that form a good predictive model."
   ]
  },
  {
   "cell_type": "code",
   "execution_count": 22,
   "metadata": {},
   "outputs": [],
   "source": [
    "from sklearn.linear_model import Lasso\n",
    "\n",
    "lsr = Lasso(alpha=.02, normalize=True, max_iter=1000000) \n",
    "# higher the alpha value, more restriction on the coefficients; low alpha > more generalization,\n",
    "# in this case linear and ridge regression resembles\n",
    "lsr.fit(X, y)\n",
    "\n",
    "y_pred_lsr = rr.predict(X)"
   ]
  },
  {
   "cell_type": "code",
   "execution_count": 23,
   "metadata": {},
   "outputs": [
    {
     "name": "stdout",
     "output_type": "stream",
     "text": [
      "Coefficients: \n",
      " [ 344.99709034   -0.         -471.80600937   -0.          183.42041303]\n",
      "Mean squared error: 1615.07\n"
     ]
    }
   ],
   "source": [
    "# The coefficients\n",
    "print('Coefficients: \\n', lsr.coef_)\n",
    "# The mean squared error\n",
    "print('Mean squared error: %.2f'\n",
    "      % mean_squared_error(y, y_pred_lsr))"
   ]
  },
  {
   "cell_type": "code",
   "execution_count": null,
   "metadata": {},
   "outputs": [],
   "source": [
    "# Plot outputs\n",
    "plt.scatter(X['Age'], y,  color='black')\n",
    "plt.plot(X['Age'], y_pred_lsr, color='blue', linewidth=3)\n",
    "\n",
    "plt.xticks(())\n",
    "plt.yticks(())\n",
    "\n",
    "plt.show()"
   ]
  },
  {
   "cell_type": "markdown",
   "metadata": {},
   "source": [
    "### Elastic Net Regression"
   ]
  },
  {
   "cell_type": "markdown",
   "metadata": {},
   "source": [
    "Middle ground between Ridge and Lasso. Minimize\n",
    "\n",
    "\\begin{equation}\n",
    "\t\t\\frac{1}{2N} \\sum\\limits_{n=1}^N \\left[h_\\theta \\left( x^{(n)} \\right) - y ^{(n)}\\right]^2 + \\lambda_1 \\sum\\limits_{n=1}^N b_n^2 + \\lambda_2 \\sum\\limits_{n=1}^N \\vert b_n \\vert \\notag\n",
    "\\end{equation}\n",
    "\n",
    "In Lasso some weights are reduced to zero but others may be quite large. In Ridge, weights are small in magnitude but they are not reduced to zero. The idea underlying Elastic Net is that we may be able to get the best of both by making some weights zero while reducing the magnitude of the others."
   ]
  },
  {
   "cell_type": "code",
   "execution_count": null,
   "metadata": {},
   "outputs": [],
   "source": [
    "from sklearn.linear_model import ElasticNet\n",
    "\n",
    "# define model\n",
    "model = ElasticNet(alpha=1.0, l1_ratio=0.5)"
   ]
  },
  {
   "cell_type": "markdown",
   "metadata": {},
   "source": [
    "# What is Unsupervised Learning"
   ]
  },
  {
   "cell_type": "markdown",
   "metadata": {},
   "source": [
    "Unsupervised learning uses machine learning algorithms to analyze and cluster unlabeled datasets. These algorithms discover hidden patterns or data groupings without the need for human intervention. Its ability to discover similarities and differences in information make it the ideal solution for exploratory data analysis, cross-selling strategies, customer segmentation, and image recognition."
   ]
  },
  {
   "cell_type": "markdown",
   "metadata": {},
   "source": [
    "## *k*-Means Clustering"
   ]
  },
  {
   "cell_type": "markdown",
   "metadata": {},
   "source": [
    "*k*-means clustering is one of the simplest and popular unsupervised machine learning algorithms.\n",
    "Typically, unsupervised algorithms make inferences from datasets using only input vectors without referring to known, or labelled, outcomes. The objective of K-means is simple: group similar data points together and discover underlying patterns. To achieve this objective, K-means looks for a fixed number (k) of clusters in a dataset.\n",
    "\n",
    "A cluster refers to a collection of data points aggregated together because of certain similarities. You’ll define a target number k, which refers to the number of centroids you need in the dataset. A centroid is the imaginary or real location representing the center of the cluster.\n",
    "\n",
    "Every data point is allocated to each of the clusters through reducing the in-cluster sum of squares.\n",
    "In other words, the K-means algorithm identifies k number of centroids, and then allocates every data point to the **nearest** cluster, while keeping the centroids as small as possible.\n",
    "\n",
    "The ‘means’ in the K-means refers to averaging of the data; that is, finding the centroid."
   ]
  },
  {
   "cell_type": "markdown",
   "metadata": {},
   "source": [
    "<div>\n",
    "<img src=\"K-means_convergence.gif\" width=\"300\"/>\n",
    "</div>"
   ]
  },
  {
   "cell_type": "markdown",
   "metadata": {},
   "source": [
    "By Chire - Own work, CC BY-SA 4.0, https://commons.wikimedia.org/w/index.php?curid=59409335"
   ]
  },
  {
   "cell_type": "markdown",
   "metadata": {},
   "source": [
    "### How the K-means algorithm works\n",
    "\n",
    "To process the learning data, the K-means algorithm in data mining starts with a first group of randomly selected centroids, which are used as the beginning points for every cluster, and then performs iterative (repetitive) calculations to optimize the positions of the centroids. It halts creating and optimizing clusters when either:\n",
    "\n",
    "- The centroids have stabilized — there is no change in their values because the clustering has been successful.\n",
    "- The defined number of iterations has been achieved.\n",
    "\n",
    "### A Distance Measure\n",
    "\n",
    "For clustering we need a distance measure. The simplest distance measure is the Euclidean Distance measure:\n",
    "\n",
    "$$\n",
    "Distance = \\sqrt{(x_B-x_B)^2 + (y_B - y_A)^2}\n",
    "$$\n",
    "\n",
    "### K-means algorithm example problem\n",
    "Let’s see the steps on how the K-means machine learning algorithm works using the Python programming language.\n",
    "We’ll use the Scikit-learn library and some random data to illustrate a K-means clustering simple explanation."
   ]
  },
  {
   "cell_type": "code",
   "execution_count": null,
   "metadata": {},
   "outputs": [],
   "source": [
    "import pandas as pd\n",
    "import numpy as np\n",
    "import matplotlib.pyplot as plt\n",
    "from sklearn.cluster import KMeans\n",
    "%matplotlib inline"
   ]
  },
  {
   "cell_type": "markdown",
   "metadata": {},
   "source": [
    "Here is the code for generating some random data in a two-dimensional space:"
   ]
  },
  {
   "cell_type": "code",
   "execution_count": null,
   "metadata": {},
   "outputs": [],
   "source": [
    "X  =    -2 * np.random.rand(100,2)\n",
    "X1 = 1 + 2 * np.random.rand(50,2)\n",
    "X[50:100, :] = X1\n",
    "plt.scatter(X[ : , 0], X[ :, 1], s = 10, c = 'b')\n",
    "plt.grid()\n",
    "plt.show()"
   ]
  },
  {
   "cell_type": "markdown",
   "metadata": {},
   "source": [
    "This give us two sets approximately centered about (-1,-1) and (2, 2). We’ll use some of the available functions in the Scikit-learn library to process the randomly generated data."
   ]
  },
  {
   "cell_type": "code",
   "execution_count": null,
   "metadata": {},
   "outputs": [],
   "source": [
    "from sklearn.cluster import KMeans\n",
    "Kmean = KMeans(n_clusters=2)\n",
    "Kmean.fit(X)"
   ]
  },
  {
   "cell_type": "markdown",
   "metadata": {},
   "source": [
    "In this case, we arbitrarily gave k (n_clusters) an arbitrary value of two.\n",
    "Here is the output of the K-means parameters we get if we run the code:"
   ]
  },
  {
   "cell_type": "code",
   "execution_count": null,
   "metadata": {},
   "outputs": [],
   "source": [
    "KMeans(algorithm='auto', copy_x=True, init='k-means++', max_iter=300,\n",
    " n_clusters=2, n_init=10, n_jobs=1, precompute_distances='auto',\n",
    " random_state=None, tol=0.0001, verbose=0)"
   ]
  },
  {
   "cell_type": "code",
   "execution_count": null,
   "metadata": {},
   "outputs": [],
   "source": [
    "Kmean.cluster_centers_"
   ]
  },
  {
   "cell_type": "markdown",
   "metadata": {},
   "source": [
    "Let's display the cluster centroids"
   ]
  },
  {
   "cell_type": "code",
   "execution_count": null,
   "metadata": {},
   "outputs": [],
   "source": [
    "plt.scatter(X[ : , 0], X[ : , 1], s =10, c='b')\n",
    "plt.scatter(-0.94665068, -0.97138368, s=100, c='g', marker='s')\n",
    "plt.scatter( 2.01559419,  2.02597093, s=100, c='r', marker='s')\n",
    "plt.grid()\n",
    "plt.show()"
   ]
  },
  {
   "cell_type": "markdown",
   "metadata": {},
   "source": [
    "Here is the code for getting the labels property of the K-means clustering example dataset; that is, how the data points are categorized into the two clusters."
   ]
  },
  {
   "cell_type": "code",
   "execution_count": null,
   "metadata": {},
   "outputs": [],
   "source": [
    "Kmean.labels_"
   ]
  },
  {
   "cell_type": "markdown",
   "metadata": {},
   "source": [
    "As you can see above, 50 data points belong to the 0 cluster while the rest belong to the 1 cluster."
   ]
  },
  {
   "cell_type": "markdown",
   "metadata": {},
   "source": [
    "For example, let’s use the code below for predicting the cluster of a data point:"
   ]
  },
  {
   "cell_type": "code",
   "execution_count": null,
   "metadata": {},
   "outputs": [],
   "source": [
    "sample_test=np.array([-3.0,-3.0])\n",
    "second_test=sample_test.reshape(1, -1)\n",
    "Kmean.predict(second_test)"
   ]
  },
  {
   "cell_type": "markdown",
   "metadata": {},
   "source": [
    "## A Country Risk Example"
   ]
  },
  {
   "cell_type": "code",
   "execution_count": null,
   "metadata": {},
   "outputs": [],
   "source": [
    "# loading packages \n",
    "\n",
    "import os\n",
    "\n",
    "import pandas as pd\n",
    "import numpy as np\n",
    "\n",
    "# plotting packages\n",
    "%matplotlib inline\n",
    "from mpl_toolkits.mplot3d import Axes3D\n",
    "import matplotlib.pyplot as plt\n",
    "import matplotlib.cm as cm\n",
    "import matplotlib.colors as clrs\n",
    "\n",
    "# Kmeans algorithm from scikit-learn\n",
    "from sklearn.cluster import KMeans\n",
    "from sklearn.metrics import silhouette_samples, silhouette_score"
   ]
  },
  {
   "cell_type": "markdown",
   "metadata": {},
   "source": [
    "### The Country Risk Dataset (J. C. Hull, 2019, Chapter 2)\n",
    "\n",
    "Consider the problem of understanding the risk of countries for foreign investment. Among the features that can be used for this are:\n",
    "\n",
    "- GDP growth rate (IMF)\n",
    "- Corruption index (Transparency international)\n",
    "- Peace index (Institute for Economics and Peace)\n",
    "- Legal Risk Index (Property Rights Association)\n",
    "\n",
    "Values for each of the features for 122 countries are found in the `countryriskdata.csv` (available [here](http://www-2.rotman.utoronto.ca/~hull))   "
   ]
  },
  {
   "cell_type": "code",
   "execution_count": null,
   "metadata": {},
   "outputs": [],
   "source": [
    "if 'google.colab' in str(get_ipython()):\n",
    "    from google.colab import files\n",
    "    uploaded = files.upload()\n",
    "    path = ''\n",
    "else:\n",
    "    path = './data/'"
   ]
  },
  {
   "cell_type": "code",
   "execution_count": null,
   "metadata": {},
   "outputs": [],
   "source": [
    "# load raw data\n",
    "raw = pd.read_csv(os.path.join(path, 'countryriskdata.csv'))\n",
    "\n",
    "# check the raw data\n",
    "print(\"Size of the dataset (row, col): \", raw.shape)\n",
    "print(\"\\nFirst 5 rows\\n\", raw.head(n=5))"
   ]
  },
  {
   "cell_type": "markdown",
   "metadata": {},
   "source": [
    "The GDP growth rate (%) is typically a positive or negative number with a magnitude less than 10. The corruption index is on a scale from 0 (highly corrupt) to 100 (no corruption). The peace index is on a scale from 1 (very peaceful) to 5 (not at all peaceful). The legal risk index runs from 0 to 10 (with high values being favorable)."
   ]
  },
  {
   "cell_type": "markdown",
   "metadata": {},
   "source": [
    "### Simple exploratory analysis\n",
    "\n",
    "**Print summary statistics**\n",
    "\n",
    "Note that all features have quite different variances, and Corruption and Legal are highly correlated."
   ]
  },
  {
   "cell_type": "code",
   "execution_count": null,
   "metadata": {},
   "outputs": [],
   "source": [
    "# print summary statistics\n",
    "print(\"\\nSummary statistics\\n\", raw.describe())\n",
    "print(\"\\nCorrelation matrix\\n\", raw.corr())"
   ]
  },
  {
   "cell_type": "markdown",
   "metadata": {},
   "source": [
    "**Plot histogram**\n",
    "\n",
    "Note that distributions for GDP Growth is quite skewed."
   ]
  },
  {
   "cell_type": "code",
   "execution_count": null,
   "metadata": {},
   "outputs": [],
   "source": [
    "# plot histograms\n",
    "plt.figure(1)\n",
    "raw['Corruption'].plot(kind = 'hist', title = 'Corruption', alpha = 0.5)\n",
    "\n",
    "plt.figure(2)\n",
    "raw['Peace'].plot(kind = 'hist', title = 'Peace', alpha = 0.5)\n",
    "\n",
    "plt.figure(3)\n",
    "raw['Legal'].plot(kind = 'hist', title = 'Legal', alpha = 0.5)\n",
    "\n",
    "plt.figure(4)\n",
    "raw['GDP Growth'].plot(kind = 'hist', title = 'GDP Growth', alpha = 0.5)\n",
    "\n",
    "plt.show()"
   ]
  },
  {
   "cell_type": "markdown",
   "metadata": {},
   "source": [
    "### K means cluster\n",
    "\n",
    "**Pick features & normalization**\n",
    "\n",
    "Since Corruption and Legal are highly correlated, we drop the Corruption variable, i.e., we pick three features for this analysis, Peace, Legal and GDP Grwoth. Let's normalize all the features, effectively making them equally weighted.\n",
    "\n",
    "Ref. [Feature normalization.](https://stats.stackexchange.com/questions/21222/are-mean-normalization-and-feature-scaling-needed-for-k-means-clustering)"
   ]
  },
  {
   "cell_type": "code",
   "execution_count": null,
   "metadata": {
    "scrolled": true
   },
   "outputs": [],
   "source": [
    "X = raw[['Peace', 'Legal', 'GDP Growth']]\n",
    "X = (X - X.mean()) / X.std()\n",
    "print(X.head(5))"
   ]
  },
  {
   "cell_type": "markdown",
   "metadata": {},
   "source": [
    "### Perform elbow method\n",
    "\n",
    "In cluster analysis, the elbow method is a heuristic used in determining the number of clusters in a data set. The method consists of plotting the explained variation as a function of the number of clusters, and picking the elbow of the curve as the number of clusters to use. The same method can be used to choose the number of parameters in other data-driven models, such as the number of principal components to describe a data set.\n",
    "\n",
    "For example in the following picture k=4 is suggested\n",
    "\n",
    "\n",
    "<div>\n",
    "<img src=\"pic_13_C.png\" width=\"400\"/>\n",
    "</div>\n",
    "\n",
    "In our case, the marginal gain of adding one cluster dropped quite a bit from k=3 to k=4. We will choose k=3 (not a clear cut though).\n",
    "\n",
    "Ref. [Determining the number of clusters in a dataset.](https://en.wikipedia.org/wiki/Determining_the_number_of_clusters_in_a_data_set)"
   ]
  },
  {
   "cell_type": "code",
   "execution_count": null,
   "metadata": {},
   "outputs": [],
   "source": [
    "# https://stackoverflow.com/questions/41540751/sklearn-kmeans-equivalent-of-elbow-method\n",
    "\n",
    "Ks = range(1, 10)\n",
    "inertia = [KMeans(i).fit(X).inertia_ for i in Ks]\n",
    "\n",
    "fig = plt.figure()\n",
    "plt.plot(Ks, inertia, '-bo')\n",
    "plt.xlabel('Number of clusters')\n",
    "plt.ylabel('Inertia (within-cluster sum of squares)')\n",
    "plt.show()"
   ]
  },
  {
   "cell_type": "markdown",
   "metadata": {},
   "source": [
    "***k*-means with k=3**"
   ]
  },
  {
   "cell_type": "code",
   "execution_count": null,
   "metadata": {},
   "outputs": [],
   "source": [
    "k = 3\n",
    "kmeans = KMeans(n_clusters=k, random_state=0)\n",
    "kmeans.fit(X)\n",
    "\n",
    "# print inertia & cluster center\n",
    "print(\"inertia for k=2 is\", kmeans.inertia_)\n",
    "print(\"cluster centers: \", kmeans.cluster_centers_)\n",
    "\n",
    "# take a quick look at the result\n",
    "y = kmeans.labels_\n",
    "print(\"cluster labels: \", y)"
   ]
  },
  {
   "cell_type": "markdown",
   "metadata": {},
   "source": [
    "**Visualize the result (3D plot)**"
   ]
  },
  {
   "cell_type": "code",
   "execution_count": null,
   "metadata": {},
   "outputs": [],
   "source": [
    "# set up the color\n",
    "norm = clrs.Normalize(vmin=0.,vmax=y.max())\n",
    "cmap = cm.viridis\n",
    "\n",
    "fig = plt.figure(figsize=(10, 8))\n",
    "ax = fig.add_subplot(111, projection='3d')\n",
    "\n",
    "ax.scatter(X.iloc[:,0], X.iloc[:,1], X.iloc[:,2], c=cmap(norm(y)), marker='o')\n",
    "\n",
    "centers = kmeans.cluster_centers_\n",
    "ax.scatter(centers[:, 0], centers[:, 1], c='red', s=100, alpha=0.5, marker='o')\n",
    "\n",
    "ax.set_xlabel('Peace')\n",
    "ax.set_ylabel('Legal')\n",
    "ax.set_zlabel('GDP Growth')\n",
    "\n",
    "plt.show()"
   ]
  },
  {
   "cell_type": "markdown",
   "metadata": {},
   "source": [
    "**Visualize the result (3 2D plots)**"
   ]
  },
  {
   "cell_type": "code",
   "execution_count": null,
   "metadata": {},
   "outputs": [],
   "source": [
    "%matplotlib inline\n",
    "import matplotlib.pyplot as plt\n",
    "\n",
    "figs = [(0, 1), (0, 2), (1, 2)]\n",
    "labels = ['Peace', 'Legal', 'GDP Growth']\n",
    "\n",
    "for i in range(3):\n",
    "    fig = plt.figure(i)\n",
    "    plt.scatter(X.iloc[:,figs[i][0]], X.iloc[:,figs[i][1]], c=cmap(norm(y)), s=50)\n",
    "    plt.scatter(centers[:, figs[i][0]], centers[:, figs[i][1]], c='black', s=200, alpha=0.5)\n",
    "    plt.xlabel(labels[figs[i][0]])\n",
    "    plt.ylabel(labels[figs[i][1]])\n",
    "\n",
    "plt.show()"
   ]
  },
  {
   "cell_type": "markdown",
   "metadata": {},
   "source": [
    "**Visualize the result (3 2D plots)**\n",
    "\n",
    "plot country abbreviations instead of dots."
   ]
  },
  {
   "cell_type": "code",
   "execution_count": null,
   "metadata": {},
   "outputs": [],
   "source": [
    "%matplotlib inline\n",
    "import matplotlib.pyplot as plt\n",
    "\n",
    "figs = [(0, 1), (0, 2), (1, 2)]\n",
    "labels = ['Peace', 'Legal', 'GDP Growth']\n",
    "colors = ['blue','green', 'red']\n",
    "\n",
    "for i in range(3):\n",
    "    fig = plt.figure(i, figsize=(8, 8))\n",
    "    x_1 = figs[i][0]\n",
    "    x_2 = figs[i][1]\n",
    "    plt.scatter(X.iloc[:, x_1], X.iloc[:, x_2], c=y, s=0, alpha=0)\n",
    "    plt.scatter(centers[:, x_1], centers[:, x_2], c='black', s=200, alpha=0.5)\n",
    "    for j in range(X.shape[0]):\n",
    "        plt.text(X.iloc[j, x_1], X.iloc[j, x_2], raw['Abbrev'].iloc[j], \n",
    "                 color=colors[y[j]], weight='semibold', horizontalalignment = 'center', verticalalignment = 'center')\n",
    "    plt.xlabel(labels[x_1])\n",
    "    plt.ylabel(labels[x_2])\n",
    "\n",
    "plt.show()"
   ]
  },
  {
   "cell_type": "markdown",
   "metadata": {},
   "source": [
    "### List the result"
   ]
  },
  {
   "cell_type": "code",
   "execution_count": null,
   "metadata": {},
   "outputs": [],
   "source": [
    "result = pd.DataFrame({'Country':raw['Country'], 'Abbrev':raw['Abbrev'], 'Label':y})\n",
    "with pd.option_context('display.max_rows', None, 'display.max_columns', 3):\n",
    "    print(result.sort_values('Label'))\n"
   ]
  },
  {
   "cell_type": "markdown",
   "metadata": {},
   "source": [
    "### Silhouette Analysis"
   ]
  },
  {
   "cell_type": "markdown",
   "metadata": {},
   "source": [
    "For each observation $i$ calculate $a(i)$, the average distance from other observations in its cluster, and $b(i)$, the average distance from observations in the closest other cluster. The silhouette score for observation $i$, $s(i)$, is defined as \n",
    "\t\t\\begin{equation}\n",
    "\t\ts(i) = \\frac{b(i)-a(i)}{\\max[a(i),b(i)]}\n",
    "\\end{equation}\t\t   \n",
    "\n",
    "Choose the number of clusters that maximizes the average silhouette score across all observations"
   ]
  },
  {
   "cell_type": "code",
   "execution_count": null,
   "metadata": {},
   "outputs": [],
   "source": [
    "# Silhouette Analysis\n",
    "range_n_clusters = [2,3,4,5,6,7,8,9,10]\n",
    "silhouette       = []\n",
    "for n_clusters in range_n_clusters:\n",
    "    clusterer=KMeans(n_clusters=n_clusters, random_state=0)\n",
    "    cluster_labels=clusterer.fit_predict(X)\n",
    "    silhouette_avg=silhouette_score(X,cluster_labels)\n",
    "    silhouette.append(silhouette_avg)\n",
    "    #print(\"For n_clusters=\", n_clusters,\n",
    "    #      \"The average silhouette_score is :\", silhouette_avg)"
   ]
  },
  {
   "cell_type": "code",
   "execution_count": null,
   "metadata": {},
   "outputs": [],
   "source": [
    "plt.plot(range_n_clusters, silhouette)"
   ]
  },
  {
   "cell_type": "markdown",
   "metadata": {},
   "source": [
    "# Introduction to Supervised Learning"
   ]
  },
  {
   "cell_type": "markdown",
   "metadata": {},
   "source": [
    "## Linear Regression"
   ]
  },
  {
   "cell_type": "markdown",
   "metadata": {},
   "source": [
    "A linear model makes a prediction by simply computing a weighted\n",
    "sum of the input features, plus a constant called the *bias* term (also called the *intercept*\n",
    "term):\n",
    "\n",
    "\\begin{equation}\n",
    "\\hat y = \\theta_0 + \\theta_1 x_1 + \\theta_2 x_2 + \\dots + \\theta_n x_n\n",
    "\\end{equation}\n",
    "\n",
    "where:\n",
    "\n",
    "- $\\hat y$ is the predicted value;\n",
    "- $n$ is the number of features;\n",
    "- $x_i$ is the $i^{th}$ feature value;\n",
    "- $\\theta_j$ is the $j^{th}$ model parameter (including the bias term $\\theta_0$ and the feature weights $\\theta_1, \\theta_2, \\dots, \\theta_n$\n",
    "\n",
    "Training a model means setting its parameters so that the model best fits the training set. For this purpose, we first need a measure of how well (or poorly) the model fits the training data. The most common performance measure of a regression model is the Root Mean Square Error (RMSE), therefore, to train a Linear Regression model, you need to find the value of θ that minimizes the RMSE. In practice, it is simpler to minimize the Mean Square Error (MSE) than the RMSE, and it leads to the same result.\n"
   ]
  },
  {
   "cell_type": "markdown",
   "metadata": {},
   "source": [
    "## A Practical Example from Kaggle Competition"
   ]
  },
  {
   "cell_type": "markdown",
   "metadata": {},
   "source": [
    "### The Problem\n",
    "\n",
    "The objective is to predict the prices of house in Iowa from features. We have 800 observations in training set, 600 in validation set, and 508 in test set"
   ]
  },
  {
   "cell_type": "markdown",
   "metadata": {},
   "source": [
    "### Categorical Features\n",
    "\n",
    "Categorical features are features where there are a number of non-numerical alternatives. We can define a dummy variable for each alternative. The variable equals 1 if the alternative is true and zero otherwise. This is known as **one-hot encoding**.\n",
    "But sometimes we do not have to do this because there is a natural ordering of variables. For example in this problem one of the categorical features is concerned with the basement quality as indicated by the ceiling height. The categories are:\n",
    "\n",
    "- *Excellent (< 100 inches)*\n",
    "- *Good (90-99 inches)*\n",
    "- *Typical (80-89 inches)*\n",
    "- *Fair (70-79 inches)*\n",
    "- *Poor (< 70 inches)*\n",
    "- *No Basement*\n",
    "\n",
    "This is an example of a categorical variable where *there is* a natural ordering. We created a new variable that had a values of 5, 4, 3, 2, 1 and 0 for the above six categories respectively.\n",
    "\n",
    "The other categorical features specifies the location of the house as in one of 25 neighborhoods. We introduce 25 dummy variables with a one-hot encoding. The dummy variable equals one for an observation if the neighborhood is that in which the house is located and zero otherwise."
   ]
  },
  {
   "cell_type": "markdown",
   "metadata": {},
   "source": [
    "### Loading data (J. C. Hull, 2019, Chapter 3)"
   ]
  },
  {
   "cell_type": "markdown",
   "metadata": {},
   "source": [
    "To illustrate the regression techniques discussed in this chapter we will use a total of 48 feature. 21 are numerical and two are categorical and to this we had, as discussed above, 25 categorical variables for the neighborhoods. "
   ]
  },
  {
   "cell_type": "code",
   "execution_count": null,
   "metadata": {},
   "outputs": [],
   "source": [
    "if 'google.colab' in str(get_ipython()):\n",
    "    from google.colab import files\n",
    "    uploaded = files.upload()\n",
    "    path = ''\n",
    "else:\n",
    "    path = './data/'"
   ]
  },
  {
   "cell_type": "code",
   "execution_count": null,
   "metadata": {},
   "outputs": [],
   "source": [
    "# Both features and target have already been scaled: mean = 0; SD = 1\n",
    "data = pd.read_csv(path + 'Houseprice_data_scaled.csv') "
   ]
  },
  {
   "cell_type": "markdown",
   "metadata": {},
   "source": [
    "First of all check how many records we have"
   ]
  },
  {
   "cell_type": "code",
   "execution_count": null,
   "metadata": {},
   "outputs": [],
   "source": [
    "print(\"Number of available data = \"  + str(len(data.index)))"
   ]
  },
  {
   "cell_type": "markdown",
   "metadata": {},
   "source": [
    "Before starting we emphasize the need to divide all available data into three parts: a **training set**, a **validation set** and a **test set**. The training set is used to determine parameters for trial models. The validation set is used to determine the extent to chich the models created from the training set generalize to new data. Finally, the test set is used as a final estimate of the accuracy of the chosen model. \n",
    "\n",
    "We had 2908 observations. We split this as follows: 1800 in the training set, 600 in the validation set and 508 in the test set."
   ]
  },
  {
   "cell_type": "code",
   "execution_count": null,
   "metadata": {},
   "outputs": [],
   "source": [
    "# First 1800 data items are training set; the next 600 are the validation set\n",
    "train = data.iloc[:1800] \n",
    "val = data.iloc[1800:2400]"
   ]
  },
  {
   "cell_type": "markdown",
   "metadata": {},
   "source": [
    "We now procede to create **labels** and **features**. As we have already said, the labels are the values of the target that is to be predicted, in this case the 'Sale Price', and we indicate that whit 'y':"
   ]
  },
  {
   "cell_type": "code",
   "execution_count": null,
   "metadata": {},
   "outputs": [],
   "source": [
    "y_train, y_val = train[['Sale Price']], val[['Sale Price']] "
   ]
  },
  {
   "cell_type": "markdown",
   "metadata": {},
   "source": [
    "The features and dummy variables were scaled using the Z-score method. Also the target values (i.e. the house prices) have been scaled with the Z-score method. The features are the variables from which the predictions are to be made and, in this case, can be obtained simply dropping the column 'Sale Price' from our dataset:"
   ]
  },
  {
   "cell_type": "code",
   "execution_count": null,
   "metadata": {},
   "outputs": [],
   "source": [
    "X_train, X_val = train.drop('Sale Price', axis=1), val.drop('Sale Price', axis=1)"
   ]
  },
  {
   "cell_type": "code",
   "execution_count": null,
   "metadata": {},
   "outputs": [],
   "source": [
    "X_train.columns"
   ]
  },
  {
   "cell_type": "markdown",
   "metadata": {},
   "source": [
    "### Linear Regression with sklearn"
   ]
  },
  {
   "cell_type": "code",
   "execution_count": null,
   "metadata": {},
   "outputs": [],
   "source": [
    "# Importing models\n",
    "from sklearn.linear_model import LinearRegression\n",
    "from sklearn.metrics import mean_squared_error as mse"
   ]
  },
  {
   "cell_type": "code",
   "execution_count": null,
   "metadata": {},
   "outputs": [],
   "source": [
    "lr = LinearRegression()\n",
    "lr.fit(X_train,y_train)"
   ]
  },
  {
   "cell_type": "code",
   "execution_count": null,
   "metadata": {},
   "outputs": [],
   "source": [
    "lr.intercept_"
   ]
  },
  {
   "cell_type": "code",
   "execution_count": null,
   "metadata": {},
   "outputs": [],
   "source": [
    "# Create dataFrame with corresponding feature and its respective coefficients\n",
    "coeffs = pd.DataFrame(\n",
    "    [\n",
    "        ['intercept'] + list(X_train.columns),\n",
    "        list(lr.intercept_) + list(lr.coef_[0])\n",
    "    ]\n",
    ").transpose().set_index(0)\n",
    "coeffs"
   ]
  },
  {
   "cell_type": "code",
   "execution_count": null,
   "metadata": {},
   "outputs": [],
   "source": [
    "len(coeffs.index)"
   ]
  },
  {
   "cell_type": "code",
   "execution_count": null,
   "metadata": {},
   "outputs": [],
   "source": [
    "pred_t=lr.predict(X_train)\n",
    "mse(y_train,pred_t)"
   ]
  },
  {
   "cell_type": "code",
   "execution_count": null,
   "metadata": {},
   "outputs": [],
   "source": [
    "pred_v=lr.predict(X_val)\n",
    "mse(y_val,pred_v)"
   ]
  },
  {
   "cell_type": "markdown",
   "metadata": {},
   "source": [
    "For the data we are considering it turns out that this regression model generalizes well. The mean squared error for the validation set was only a little higher than that for the training set. However linear regression with no regularization leads to some strange results because of the correlation between features. For example it makes no sense that the weights for number of full bathrooms and number of bedrooms are negative!"
   ]
  },
  {
   "cell_type": "code",
   "execution_count": null,
   "metadata": {},
   "outputs": [],
   "source": [
    "x1 = X_train['GrLivArea']\n",
    "x2 = X_train['BedroomAbvGr']\n",
    "x1.corr(x2)"
   ]
  },
  {
   "cell_type": "markdown",
   "metadata": {},
   "source": [
    "###### Ridge Regression"
   ]
  },
  {
   "cell_type": "code",
   "execution_count": null,
   "metadata": {},
   "outputs": [],
   "source": [
    "# Importing Ridge\n",
    "from sklearn.linear_model import Ridge"
   ]
  },
  {
   "cell_type": "markdown",
   "metadata": {},
   "source": [
    "We try using Ridge regression with different values of the hyperparameter $\\lambda$. The following code shows the effect of this parameter on the prediction error. "
   ]
  },
  {
   "cell_type": "code",
   "execution_count": null,
   "metadata": {
    "scrolled": true
   },
   "outputs": [],
   "source": [
    "# The alpha used by Python's ridge should be the lambda in Hull's book times the number of observations\n",
    "alphas=[0.01*1800, 0.02*1800, 0.03*1800, 0.04*1800, 0.05*1800, 0.075*1800,0.1*1800,0.2*1800, 0.4*1800]\n",
    "mses=[]\n",
    "for alpha in alphas:\n",
    "    ridge=Ridge(alpha=alpha)\n",
    "    ridge.fit(X_train,y_train)\n",
    "    pred=ridge.predict(X_val)\n",
    "    mses.append(mse(y_val,pred))\n",
    "    print(mse(y_val,pred))"
   ]
  },
  {
   "cell_type": "code",
   "execution_count": null,
   "metadata": {},
   "outputs": [],
   "source": [
    "plt.plot(alphas, mses)"
   ]
  },
  {
   "cell_type": "markdown",
   "metadata": {},
   "source": [
    "As expected the prediction error increases as $\\lambda$ increases. Values of $\\lambda$ in the range $0$ to $0.1$ might be reasonably be considered because prediction errors increases only slightly when $\\lambda$ is in this range. However it turns out that the improvement in the model is quite small for these values of $\\lambda$."
   ]
  },
  {
   "cell_type": "markdown",
   "metadata": {},
   "source": [
    "###### Lasso"
   ]
  },
  {
   "cell_type": "code",
   "execution_count": null,
   "metadata": {},
   "outputs": [],
   "source": [
    "# Import Lasso\n",
    "from sklearn.linear_model import Lasso"
   ]
  },
  {
   "cell_type": "code",
   "execution_count": null,
   "metadata": {},
   "outputs": [],
   "source": [
    "# Here we produce results for alpha=0.05 which corresponds to lambda=0.1 in Hull's book\n",
    "lasso = Lasso(alpha=0.05)\n",
    "lasso.fit(X_train, y_train)"
   ]
  },
  {
   "cell_type": "code",
   "execution_count": null,
   "metadata": {},
   "outputs": [],
   "source": [
    "# DataFrame with corresponding feature and its respective coefficients\n",
    "coeffs = pd.DataFrame(\n",
    "    [\n",
    "        ['intercept'] + list(X_train.columns),\n",
    "        list(lasso.intercept_) + list(lasso.coef_)\n",
    "    ]\n",
    ").transpose().set_index(0)\n",
    "coeffs"
   ]
  },
  {
   "cell_type": "markdown",
   "metadata": {},
   "source": [
    "###### Lasso with different levels of alpha and its mse"
   ]
  },
  {
   "cell_type": "code",
   "execution_count": null,
   "metadata": {},
   "outputs": [],
   "source": [
    "# We now consider different lambda values. The alphas are half the lambdas\n",
    "alphas=[0.01/2, 0.02/2, 0.03/2, 0.04/2, 0.05/2, 0.06/2, 0.08/2, 0.09/2, 0.1/2]\n",
    "mses=[]\n",
    "for alpha in alphas:\n",
    "    lasso=Lasso(alpha=alpha)\n",
    "    lasso.fit(X_train,y_train)\n",
    "    pred=lasso.predict(X_val)\n",
    "    mses.append(mse(y_val,pred))\n",
    "    print(\"lambda = \" + '{:<05}'.format(alpha) + \" - mse = \" + str(round(mse(y_val, pred),6)))"
   ]
  },
  {
   "cell_type": "code",
   "execution_count": null,
   "metadata": {},
   "outputs": [],
   "source": [
    "plt.plot(alphas, mses)"
   ]
  },
  {
   "cell_type": "markdown",
   "metadata": {},
   "source": [
    "Lasso regression leads to more interesting results. In the plot above you can see how the error in the validation set changes as tha value of the lasso $\\lambda$ increases. For small values of $\\lambda$ the error is actually less than when $\\lambda = 0$ but as $\\lambda$ increases beyond about $0.03$ the error starts to increase. A value of $\\lambda = 0.04$ could be chosen.   "
   ]
  },
  {
   "cell_type": "markdown",
   "metadata": {},
   "source": [
    "# References"
   ]
  },
  {
   "cell_type": "markdown",
   "metadata": {},
   "source": [
    "John C. Hull, **Machine Learning in Business: An Introduction to the World of Data Science**, Amazon, 2019.\n",
    "\n",
    "Paul Wilmott, **Machine Learning: An Applied Mathematics Introduction**, Panda Ohana Publishing, 2019."
   ]
  }
 ],
 "metadata": {
  "kernelspec": {
   "display_name": "Python 3",
   "language": "python",
   "name": "python3"
  },
  "language_info": {
   "codemirror_mode": {
    "name": "ipython",
    "version": 3
   },
   "file_extension": ".py",
   "mimetype": "text/x-python",
   "name": "python",
   "nbconvert_exporter": "python",
   "pygments_lexer": "ipython3",
   "version": "3.7.4"
  },
  "toc": {
   "base_numbering": 1,
   "nav_menu": {},
   "number_sections": true,
   "sideBar": true,
   "skip_h1_title": false,
   "title_cell": "Table of Contents",
   "title_sidebar": "Contents",
   "toc_cell": false,
   "toc_position": {
    "height": "calc(100% - 180px)",
    "left": "10px",
    "top": "150px",
    "width": "289px"
   },
   "toc_section_display": true,
   "toc_window_display": false
  }
 },
 "nbformat": 4,
 "nbformat_minor": 4
}
