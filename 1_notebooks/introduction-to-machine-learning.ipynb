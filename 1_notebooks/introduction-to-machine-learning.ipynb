{
 "cells": [
  {
   "cell_type": "markdown",
   "metadata": {},
   "source": [
    "# General Ideas"
   ]
  },
  {
   "cell_type": "markdown",
   "metadata": {},
   "source": [
    "## What is Machine Learning?\n",
    "\n",
    "Two definitions of Machine Learning are offered. [Arthur Samuel](https://en.wikipedia.org/wiki/Arthur_Samuel) described it as: \"the field of study that gives computers the ability to learn without being explicitly programmed.\" This is an older, informal definition.\n",
    "\n",
    "Tom Mitchell provides a more modern definition: \"A computer program is said to learn from experience E with respect to some class of tasks T and performance measure P, if its performance at tasks in T, as measured by P, improves with experience E.\"\n",
    "\n",
    "Example: playing checkers.\n",
    "\n",
    "E = the experience of playing many games of checkers\n",
    "\n",
    "T = the task of playing checkers.\n",
    "\n",
    "P = the probability that the program will win the next game.\n",
    "\n",
    "\n",
    "To use machine learning effectively **you have to understand how the underlying algorithms work**. It is tempting to learn a language such as Python or R and apply various packages to your data without really understanding what the packages are doing or even how the results should be interpreted. This would be a bit like a finance specialist using the Black and Scholes model to value options without understanding where it comes from or its limitations.\n",
    "\n",
    "\n",
    "### Type of Machine Learning Models ###\n",
    "\n",
    "There are four main categories of machine learning models:\n",
    "\n",
    "- Supervised Learning\n",
    "- Unsupervised Learning\n",
    "- Semi-Supervised Learning\n",
    "- Reinforcement Learning \n",
    "\n",
    "Supervised learning is concerned with using data to make predictions. We can distinguish between supervised learning models that are used to predict a variable and models that are used for classification. \n",
    "\n",
    "Unsupervised learning is concerned with recognizing patterns in data. The main object is not to forecast a particular variable, rather it is to understand the data environment better.\n",
    "\n",
    "### Jargon\n",
    "\n",
    "The data for supervised learning contains whare are referred to as **features** and **labels**. The **labels** are the values of the target that is to be predicted. The **features** are the variables from which the predictions are to be made. For example when predicting the price of a house the **features** could be the swuare meters of living space, the number of bedrooms, the number of bathrooms, the size of the garage and so on. The **label** would be the house price.\n",
    "\n",
    "The data for unsupervised learning consists of features but no labels because the model is being used to identify patterns not to forecast something.\n",
    "\n",
    "### Type of Data ###\n",
    "\n",
    "There are two types of data:\n",
    "\n",
    "- Numerical\n",
    "- Categorical\n",
    "\n",
    "Numerical data consists of numbers. Categorical data is data which can fall into a number of different categories, for example data to predict a house price might categorize driveways as asphalt, concrete, grass, etc. Categorical data must be converted to numbers for the purposes of analysis. \n",
    "\n",
    "The standard way of dealing with categorical features is to create a dummy variable for each category. The value of this variable is 1 if the feature is in the category and 0 otherwise. For example in the situation in which individuals are categorized as male or female, we could create two dummy variables. For man the first dummy variable would be 1 and the second would be 0. The opposite for women. This procedure is appropriate when there is no natural ordering between the feature values.\n",
    "\n",
    "When there is a natural ordering, we can reflect this in the numbers assigned. For example if the size of an order is classified as small, medium or large, we can replace the feature by a numerical variable where *small = 1*, *medium = 2* and *large = 3*."
   ]
  },
  {
   "cell_type": "markdown",
   "metadata": {},
   "source": [
    "## Feature Normalization"
   ]
  },
  {
   "cell_type": "markdown",
   "metadata": {},
   "source": [
    "The success of a machine learning algorithm highly depends on the quality of the data fed into the model. Real-world data is often dirty containing outliers, missing values, wrong data types, irrelevant features, or non-standardized data. The presence of any of these will prevent the machine learning model to properly learn. For this reason, transforming raw data into a useful format is an essential stage in the machine learning process. One technique you will come across multiple times when pre-processing data is feature normalization.\n",
    "\n",
    "Data Normalization is a common practice in machine learning which consists of transforming numeric columns to a common scale. In machine learning, some feature values differ from others multiple times. The features with higher values will dominate the leaning process. However, it does not mean those variables are more important to predict the outcome of the model. Data normalization transforms multiscaled data to the same scale. After normalization, all variables have a similar influence on the model, improving the stability and performance of the learning algorithm.\n",
    "\n",
    "There are multiple normalization techniques in statistics. In this notebook, we will cover the most important ones:\n",
    "\n",
    "- The maximum absolute scaling\n",
    "- The min-max feature scaling\n",
    "- The z-score method"
   ]
  },
  {
   "cell_type": "markdown",
   "metadata": {},
   "source": [
    "### The maximum absolute scaling\n",
    "\n",
    "The maximum absolute scaling rescales each feature between -1 and 1 by dividing every observation by its maximum absolute value.\n",
    "\n",
    "$$\n",
    "x_{new} = \\frac{x_{old}}{\\max \\vert x_{old} \\vert}\n",
    "$$"
   ]
  },
  {
   "cell_type": "markdown",
   "metadata": {},
   "source": [
    "### The min-max feature scaling\n",
    "\n",
    "The min-max approach (often called normalization) rescales the feature to a fixed range of [0,1] by subtracting the minimum value of the feature and then dividing by the range:\n",
    "\n",
    "$$\n",
    "x_{new} = \\frac{x_{old}-x_{min}}{x_{max}-x_{min}}\n",
    "$$"
   ]
  },
  {
   "cell_type": "markdown",
   "metadata": {},
   "source": [
    "### Z-Score\n",
    "\n",
    "The z-score method (often called standardization) transforms the data into a distribution with a mean of 0 and a standard deviation of 1. Each standardized value is computed by subtracting the mean of the corresponding feature and then dividing by the standard deviation.\n",
    "\n",
    "$$\n",
    "x_{new} = \\frac{x_{old} - \\mu}{\\sigma}\n",
    "$$\n",
    "\n",
    "Unlike min-max scaling, the z-score does not rescale the feature to a fixed range. The z-score typically ranges from -3.00 to 3.00 (more than 99% of the data) if the input is normally distributed.\n",
    "\n",
    "It is important to bear in mind that z-scores are not necessarily normally distributed. They just scale the data and follow the same distribution as the original input. This transformed distribution has a mean of 0 and a standard deviation of 1 and is going to be the standard normal distribution only if the input feature follows a normal distribution."
   ]
  },
  {
   "cell_type": "markdown",
   "metadata": {},
   "source": [
    "## Cost Functions \n",
    "\n",
    "\n",
    "### Linear Cost Function \n",
    "\n",
    "In Machine Learning a cost function or loss function is used to represent how far away a mathematical model is from the real data. One adjusts the mathematical model, usually by varying parameters within the model, so as to minimize the cost function. \n",
    "\n",
    "Let's take for example the simple case of a linear fitting. We want to find a relationship of the form \n",
    "\n",
    "\\begin{equation}\n",
    "y=\\theta_0 +\\theta_1x\n",
    "\\end{equation}\n",
    "\n",
    "where the $\\theta$s are the parameters that we want to find to give us the best fit to the data. We call this linear function $h_\\theta(x)$ to emphasize the dependence on both the variable $x$ and the two parameters $\\theta_0$ and $\\theta_1$.\n",
    "\n",
    "\n",
    "We want to measure how far away the data, the $y^{(n)}$s, are from the function $h_\\theta(x)$. A common way to do this is via the quadratic *cost function*\n",
    "\n",
    "\\begin{equation}\n",
    "J(\\mathbf{\\theta}) = \\frac{1}{2N} \\sum\\limits_{n=1}^N \\left[ h_\\theta \\left( x^{(n)} \\right) - y^{(n)} \\right]^2\n",
    "\\label{eq:ols}\n",
    "\\end{equation}\n",
    "\n",
    "This is called *Ordinary Least Squares*.\n",
    "\n",
    "In this case, the minimum is easily find analitically, differentiate $\\eqref{eq:ols}$ with respect to both $\\theta$s and set the result to zero:\n",
    "\n",
    "\\begin{equation}\n",
    "\\begin{array}{lcl} \n",
    "\\frac{\\partial J}{\\partial \\theta_0} & = & \\sum\\limits_{n=1}^N \\left( \\theta_0 + \\theta_1 x^{(n)} - y^{(n)} \\right) = 0 \n",
    "\\\\ \n",
    "\\frac{\\partial J}{\\partial \\theta_1} & = & \\sum\\limits_{n=1}^N x^{(n)} \\left( \\theta_0 + \\theta_1 x^{(n)} - y^{(n)} \\right) = 0 \n",
    "\\end{array}\n",
    "\\end{equation}\n",
    "\n",
    "The solution is trivially obtained for both $\\theta$s\n",
    "\n",
    "\\begin{equation}\n",
    "\\begin{array}{lcl} \n",
    "\\theta_0 = \\frac{\\left(\\sum y \\right) \\left(\\sum x^2 \\right) -\\left(\\sum x \\right) \\left(\\sum xy \\right) }{N\\left(\\sum x^2 \\right) \\left(\\sum x \\right)^2 } \n",
    "\\\\ \n",
    "\\theta_1 = \\frac{N\\left(\\sum xy \\right) - \\left(\\sum y \\right)\\left(\\sum x \\right)}{N\\left(\\sum x^2 \\right) \\left(\\sum x \\right)^2 }\n",
    "\\end{array}\n",
    "\\end{equation}\n",
    "\n",
    "\n"
   ]
  },
  {
   "cell_type": "markdown",
   "metadata": {},
   "source": [
    "## Gradient Descent\n",
    "\n",
    "The scheme works as follow: start with an initial guess for each parameter $\\theta_k$. Then move $\\theta_k$ in the direction of the slope:\n",
    "\n",
    "\\begin{equation}\n",
    "\\theta_k^{new} =\\theta_k^{old}+\\beta \\frac{\\partial J}{\\partial \\theta_k}\n",
    "\\end{equation}\n",
    "\n",
    "**Update all $\\theta_k$ simultaneously** and repet until convergence. Here $\\beta$ is a *learning factor* that governs how far you move. if $\\beta$ is too small it will take a long time to converge, if too large it will overshoot and might not converge at all. \n",
    "\n",
    "The loss function $J$ is a function of all of the data points. In the above description of gradient descent we have used all of the data points simultaneously. This is called *batch gradient* descent. But rather than use all of the data in the parameter updating we can use a technique called *stochastic gradient descent*. This is like batch gradient descent except that you only update using *one* of the data points each time. And that data point is chosen randomly.\n",
    "\n",
    "\\begin{equation}\n",
    "J(\\mathbf{\\theta}) = \\sum\\limits_{n=1}^N J_n(\\mathbf{\\theta})\n",
    "\\end{equation}\n",
    "\n",
    "Stochastic gradient descent means pick an *n* at random and then update according to \n",
    "\n",
    "\\begin{equation}\n",
    "\\theta_k^{new} =\\theta_k^{old}+\\beta \\frac{\\partial J_n}{\\partial \\theta_k}\n",
    "\\end{equation}\n",
    "\n",
    "Repeat, picking another data point at random, etc.\n",
    "\n",
    "\n",
    "\n",
    "\n",
    "\n",
    "\n",
    "\n",
    "\n",
    "\n",
    "\n",
    "\n",
    "\n",
    "\n",
    "\n",
    "\n"
   ]
  },
  {
   "cell_type": "markdown",
   "metadata": {},
   "source": [
    "## Validation and Testing \n",
    "\n",
    "When data is used for forecasting there is a danger that the machine learning model will work very well for data, but will not generalize well to other data. An obvious point is that it is important that the data used in a machine learning model be representative of the situations to which the model is to be applied. It is also important to test a model out-of-sample, by this we mean that the model should be tested on data that is different from the sample data used to determine the parameters of the model.\n",
    "\n",
    "Data scientist refer to the sample data as the **training set** and the data used to determine the accuracy of the model as the **test set**, often a **validation set** is used as well as we explain later;"
   ]
  },
  {
   "cell_type": "code",
   "execution_count": 45,
   "metadata": {},
   "outputs": [],
   "source": [
    "if 'google.colab' in str(get_ipython()):\n",
    "    from google.colab import files\n",
    "    uploaded = files.upload()\n",
    "    path = ''\n",
    "else:\n",
    "    path = './data/'"
   ]
  },
  {
   "cell_type": "code",
   "execution_count": 46,
   "metadata": {},
   "outputs": [
    {
     "name": "stdout",
     "output_type": "stream",
     "text": [
      "   Age  Salary\n",
      "0   25  135000\n",
      "1   27  105000\n",
      "2   30  105000\n",
      "3   35  220000\n",
      "4   40  300000\n"
     ]
    }
   ],
   "source": [
    "# Load the Pandas libraries with alias 'pd' \n",
    "import pandas as pd \n",
    "# Read data from file 'salary_vs_age_1.csv' \n",
    "# (in the same directory that your python process is based)\n",
    "# Control delimiters, with read_table \n",
    "df1 = pd.read_table(path + \"salary_vs_age_1.csv\", sep=\";\") \n",
    "# Preview the first 5 lines of the loaded data \n",
    "print(df1.head())"
   ]
  },
  {
   "cell_type": "code",
   "execution_count": 47,
   "metadata": {},
   "outputs": [
    {
     "data": {
      "image/png": "[encoded data removed]",
      "text/plain": [
       "<Figure size 720x288 with 1 Axes>"
      ]
     },
     "metadata": {
      "needs_background": "light"
     },
     "output_type": "display_data"
    }
   ],
   "source": [
    "import matplotlib.pyplot as plt\n",
    "\n",
    "plt.rcParams['figure.figsize'] = [10, 4]\n",
    "ax=plt.gca()\n",
    "\n",
    "df1.plot(x ='Age', y='Salary', kind = 'scatter', ax=ax)\n",
    "plt.show()"
   ]
  },
  {
   "cell_type": "markdown",
   "metadata": {},
   "source": [
    "[polynomial fitting with pandas](https://joshualoong.com/2018/10/03/Fitting-Polynomial-Regressions-in-Python/)"
   ]
  },
  {
   "cell_type": "code",
   "execution_count": 48,
   "metadata": {},
   "outputs": [
    {
     "data": {
      "image/png": "[encoded data removed]",
      "text/plain": [
       "<Figure size 720x288 with 1 Axes>"
      ]
     },
     "metadata": {
      "needs_background": "light"
     },
     "output_type": "display_data"
    }
   ],
   "source": [
    "import numpy as np\n",
    "\n",
    "x1 = df1['Age']\n",
    "y1 = df1['Salary']\n",
    "\n",
    "n = len(x1)\n",
    "\n",
    "degree = 5\n",
    "\n",
    "weights = np.polyfit(x1, y1, degree)\n",
    "model   = np.poly1d(weights)\n",
    "\n",
    "xx1 = np.arange(x1[0], x1[n-1], 0.1)\n",
    "plt.plot(xx1, model(xx1))\n",
    "plt.xlabel(\"Age\")\n",
    "plt.ylabel(\"Salary\")\n",
    "plt.scatter(x1,y1, color='red')\n",
    "plt.show()"
   ]
  },
  {
   "cell_type": "code",
   "execution_count": 49,
   "metadata": {},
   "outputs": [
    {
     "name": "stdout",
     "output_type": "stream",
     "text": [
      "Root Mean Square Error:\n",
      "12902.203044371492\n"
     ]
    }
   ],
   "source": [
    "y1  = np.array(y1)\n",
    "yy1 = np.array(model(x1))\n",
    "\n",
    "rmse = np.sqrt(np.sum((y1-yy1)**2)/(n-1)) \n",
    "\n",
    "print('Root Mean Square Error:')\n",
    "print(rmse)"
   ]
  },
  {
   "cell_type": "code",
   "execution_count": 50,
   "metadata": {},
   "outputs": [],
   "source": [
    "if 'google.colab' in str(get_ipython()):\n",
    "    from google.colab import files\n",
    "    uploaded = files.upload()\n",
    "    path = ''\n",
    "else:\n",
    "    path = './data/'"
   ]
  },
  {
   "cell_type": "code",
   "execution_count": 51,
   "metadata": {},
   "outputs": [
    {
     "name": "stdout",
     "output_type": "stream",
     "text": [
      "Root Mean Square Error:\n",
      "38825.220509174826\n"
     ]
    }
   ],
   "source": [
    "df2 = pd.read_table(path + \"salary_vs_age_2.csv\", sep=\";\") \n",
    "x2 = df2['Age']\n",
    "y2 = df2['Salary']\n",
    "n  = len(x2)\n",
    "\n",
    "y2  = np.array(y2)\n",
    "yy2 = np.array(model(x2))\n",
    "\n",
    "rmse = np.sqrt(np.sum((y2-yy2)**2)/(n-1)) \n",
    "\n",
    "print('Root Mean Square Error:')\n",
    "print(rmse)"
   ]
  },
  {
   "cell_type": "code",
   "execution_count": 52,
   "metadata": {},
   "outputs": [
    {
     "data": {
      "image/png": "[encoded data removed]",
      "text/plain": [
       "<Figure size 720x288 with 1 Axes>"
      ]
     },
     "metadata": {
      "needs_background": "light"
     },
     "output_type": "display_data"
    }
   ],
   "source": [
    "xx2 = np.arange(x2[0], x2[n-1], 0.1)\n",
    "plt.plot(xx2, model(xx2))\n",
    "plt.xlabel(\"Age\")\n",
    "plt.ylabel(\"Salary\")\n",
    "plt.scatter(x2,y2, color='red')\n",
    "plt.show()"
   ]
  },
  {
   "cell_type": "markdown",
   "metadata": {},
   "source": [
    "- The root mean squared error (rmse) for the training      data set is \\$12,902\n",
    "- The rmse for the test data set is \\$38,794\n",
    "\n",
    "We conclude that the model overfits the data. The complexity of the model should be increased only until out-of-sample tests indicate that it does not generalize well."
   ]
  },
  {
   "cell_type": "markdown",
   "metadata": {},
   "source": [
    "## Bias and Variance\n",
    "\n",
    "Suppose there is a relationship between an independent variable $x$ and a dependent variable $y$:\n",
    "\n",
    "\\begin{equation}\n",
    "    y=f(x) + \\epsilon\n",
    "\\end{equation}\n",
    "\n",
    "Where $\\epsilon$ is an error term with mean zero and variance $\\sigma^2$. The error term captures either genuine randomness in the data or noise due to measurement error.\n",
    "\n",
    "Suppose we find a deterministic model for this relationship:\n",
    "\n",
    "\\begin{equation}\n",
    "    y = \\hat f(x)\n",
    "\\end{equation}\n",
    "\n",
    "Now it comes a new data point $x^\\prime$ not in the training set and we want to predict the corresponding $y^\\prime$. The error we will observe in our model at point $x^\\prime$ is going to be\n",
    "\n",
    "\\begin{equation}\n",
    "    \\hat f(x^\\prime) - f(x^\\prime) - \\epsilon\n",
    "\\end{equation}\n",
    "\n",
    "There are two different sources of error in this equation. The first one is included in the factor $\\epsilon$, the second one, more interesting, is due to what is in our training set. A robust model should give us the same prediction whatever data we used for training out model. Let's look at the average error:\n",
    "\n",
    "\\begin{equation}\n",
    "E \\left[ \\hat f (x^\\prime ) \\right] - f(x^\\prime)\n",
    "\\end{equation}\n",
    "\n",
    "where the expectation is taken over random samples of training data (having the same distributio as the training data). \n",
    "\n",
    "This is the definition of the **bias**\n",
    "\n",
    "\\begin{equation}\n",
    "    \\textrm{Bias} \\left[\\hat f (x^\\prime) \\right] = E \\left[ \\hat f (x^\\prime ) \\right] - f(x^\\prime)\n",
    "\\end{equation}\n",
    "\n",
    "We can also look at the mean square error\n",
    "\n",
    "\\begin{equation}\n",
    "E \\left[\\left( \\hat f (x^\\prime ) - f(x^\\prime) - \\epsilon \\right)^2\\right] =\n",
    "\\left[ \\textrm{Bias} \\left( \\hat f(x^\\prime) \\right) \\right]^2 + \\textrm{Var}\\left[ \\hat f(x^\\prime) \\right] + \\sigma^2\n",
    "\\end{equation}\n",
    "\n",
    "Where we remember that $\\hat f (x^\\prime)$ and $\\epsilon$ are independent.\n",
    "\n",
    "This show us that there are two important quantities, the **bias** and the **variance** that will affect our results and that we can control to some extent. "
   ]
  },
  {
   "cell_type": "markdown",
   "metadata": {},
   "source": [
    "**FIGURE 1.1 - A good model should have low bias and low variance**"
   ]
  },
  {
   "cell_type": "markdown",
   "metadata": {
    "id": "zoo3dlmRGkYb"
   },
   "source": [
    "![bias_and_variance_1.png](data:image/png;base64,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)"
   ]
  },
  {
   "cell_type": "markdown",
   "metadata": {},
   "source": [
    "**Bias is how far away the trained model is from the correct result on average**. Where *on average* means over many goes at training the model using different data. And **Variance is a measure of the magnitude of that error**.\n",
    "\n",
    "\n",
    "Unfortunately, we often find that there is a trade-off between bias and variance. As one is reduced, the other is increased. This is the matter of over- and under-fitting.\n",
    "\n",
    "**Overfitting is when we train our algorithm too well on training data, perhaps having too many parameters for fitting**.\n"
   ]
  },
  {
   "cell_type": "markdown",
   "metadata": {},
   "source": [
    "## Regularization\n",
    "\n",
    "### Ridge Regression \n",
    "\n",
    "\n",
    "\n"
   ]
  },
  {
   "cell_type": "markdown",
   "metadata": {},
   "source": [
    "Ridge regression is a regularization technique where we change the function that is to be minimize. Reduce magnitude of regression coefficients by choosing a parameter $\\lambda$ and minimizing\n",
    "\t\t\n",
    "\\begin{equation}\n",
    "\t\t\\frac{1}{2N} \\sum\\limits_{n=1}^N \\left[h_\\theta \\left( x^{(n)} \\right) - y ^{(n)}\\right]^2\t+ \\lambda \\sum\\limits_{n=1}^N b_i^2 \\notag\n",
    "\\end{equation}\n",
    "\n",
    "This change has the effect of encouraging the model to keep the weights $b_j$ as small as possibile. The Ridge regression should only be used for determining model parameters using the training set. Once the model parameters have been determined the penalty term should be removed for prediction."
   ]
  },
  {
   "cell_type": "code",
   "execution_count": 53,
   "metadata": {},
   "outputs": [
    {
     "data": {
      "text/html": [
       "<div>\n",
       "<style scoped>\n",
       "    .dataframe tbody tr th:only-of-type {\n",
       "        vertical-align: middle;\n",
       "    }\n",
       "\n",
       "    .dataframe tbody tr th {\n",
       "        vertical-align: top;\n",
       "    }\n",
       "\n",
       "    .dataframe thead th {\n",
       "        text-align: right;\n",
       "    }\n",
       "</style>\n",
       "<table border=\"1\" class=\"dataframe\">\n",
       "  <thead>\n",
       "    <tr style=\"text-align: right;\">\n",
       "      <th></th>\n",
       "      <th>Salary</th>\n",
       "      <th>Age</th>\n",
       "    </tr>\n",
       "  </thead>\n",
       "  <tbody>\n",
       "    <tr>\n",
       "      <th>0</th>\n",
       "      <td>135000</td>\n",
       "      <td>25</td>\n",
       "    </tr>\n",
       "    <tr>\n",
       "      <th>1</th>\n",
       "      <td>105000</td>\n",
       "      <td>27</td>\n",
       "    </tr>\n",
       "    <tr>\n",
       "      <th>2</th>\n",
       "      <td>105000</td>\n",
       "      <td>30</td>\n",
       "    </tr>\n",
       "    <tr>\n",
       "      <th>3</th>\n",
       "      <td>220000</td>\n",
       "      <td>35</td>\n",
       "    </tr>\n",
       "    <tr>\n",
       "      <th>4</th>\n",
       "      <td>300000</td>\n",
       "      <td>40</td>\n",
       "    </tr>\n",
       "    <tr>\n",
       "      <th>5</th>\n",
       "      <td>270000</td>\n",
       "      <td>45</td>\n",
       "    </tr>\n",
       "    <tr>\n",
       "      <th>6</th>\n",
       "      <td>265000</td>\n",
       "      <td>50</td>\n",
       "    </tr>\n",
       "    <tr>\n",
       "      <th>7</th>\n",
       "      <td>260000</td>\n",
       "      <td>55</td>\n",
       "    </tr>\n",
       "    <tr>\n",
       "      <th>8</th>\n",
       "      <td>240000</td>\n",
       "      <td>60</td>\n",
       "    </tr>\n",
       "    <tr>\n",
       "      <th>9</th>\n",
       "      <td>265000</td>\n",
       "      <td>65</td>\n",
       "    </tr>\n",
       "  </tbody>\n",
       "</table>\n",
       "</div>"
      ],
      "text/plain": [
       "   Salary  Age\n",
       "0  135000   25\n",
       "1  105000   27\n",
       "2  105000   30\n",
       "3  220000   35\n",
       "4  300000   40\n",
       "5  270000   45\n",
       "6  265000   50\n",
       "7  260000   55\n",
       "8  240000   60\n",
       "9  265000   65"
      ]
     },
     "execution_count": 53,
     "metadata": {},
     "output_type": "execute_result"
    }
   ],
   "source": [
    "columns_titles = [\"Salary\",\"Age\"]\n",
    "df2=df1.reindex(columns=columns_titles)\n",
    "df2"
   ]
  },
  {
   "cell_type": "code",
   "execution_count": 54,
   "metadata": {},
   "outputs": [
    {
     "data": {
      "text/html": [
       "<div>\n",
       "<style scoped>\n",
       "    .dataframe tbody tr th:only-of-type {\n",
       "        vertical-align: middle;\n",
       "    }\n",
       "\n",
       "    .dataframe tbody tr th {\n",
       "        vertical-align: top;\n",
       "    }\n",
       "\n",
       "    .dataframe thead th {\n",
       "        text-align: right;\n",
       "    }\n",
       "</style>\n",
       "<table border=\"1\" class=\"dataframe\">\n",
       "  <thead>\n",
       "    <tr style=\"text-align: right;\">\n",
       "      <th></th>\n",
       "      <th>Salary</th>\n",
       "      <th>Age</th>\n",
       "      <th>Age2</th>\n",
       "      <th>Age3</th>\n",
       "      <th>Age4</th>\n",
       "      <th>Age5</th>\n",
       "    </tr>\n",
       "  </thead>\n",
       "  <tbody>\n",
       "    <tr>\n",
       "      <th>0</th>\n",
       "      <td>135.0</td>\n",
       "      <td>25</td>\n",
       "      <td>625</td>\n",
       "      <td>15625</td>\n",
       "      <td>390625</td>\n",
       "      <td>9765625</td>\n",
       "    </tr>\n",
       "    <tr>\n",
       "      <th>1</th>\n",
       "      <td>105.0</td>\n",
       "      <td>27</td>\n",
       "      <td>729</td>\n",
       "      <td>19683</td>\n",
       "      <td>531441</td>\n",
       "      <td>14348907</td>\n",
       "    </tr>\n",
       "    <tr>\n",
       "      <th>2</th>\n",
       "      <td>105.0</td>\n",
       "      <td>30</td>\n",
       "      <td>900</td>\n",
       "      <td>27000</td>\n",
       "      <td>810000</td>\n",
       "      <td>24300000</td>\n",
       "    </tr>\n",
       "    <tr>\n",
       "      <th>3</th>\n",
       "      <td>220.0</td>\n",
       "      <td>35</td>\n",
       "      <td>1225</td>\n",
       "      <td>42875</td>\n",
       "      <td>1500625</td>\n",
       "      <td>52521875</td>\n",
       "    </tr>\n",
       "    <tr>\n",
       "      <th>4</th>\n",
       "      <td>300.0</td>\n",
       "      <td>40</td>\n",
       "      <td>1600</td>\n",
       "      <td>64000</td>\n",
       "      <td>2560000</td>\n",
       "      <td>102400000</td>\n",
       "    </tr>\n",
       "    <tr>\n",
       "      <th>5</th>\n",
       "      <td>270.0</td>\n",
       "      <td>45</td>\n",
       "      <td>2025</td>\n",
       "      <td>91125</td>\n",
       "      <td>4100625</td>\n",
       "      <td>184528125</td>\n",
       "    </tr>\n",
       "    <tr>\n",
       "      <th>6</th>\n",
       "      <td>265.0</td>\n",
       "      <td>50</td>\n",
       "      <td>2500</td>\n",
       "      <td>125000</td>\n",
       "      <td>6250000</td>\n",
       "      <td>312500000</td>\n",
       "    </tr>\n",
       "    <tr>\n",
       "      <th>7</th>\n",
       "      <td>260.0</td>\n",
       "      <td>55</td>\n",
       "      <td>3025</td>\n",
       "      <td>166375</td>\n",
       "      <td>9150625</td>\n",
       "      <td>503284375</td>\n",
       "    </tr>\n",
       "    <tr>\n",
       "      <th>8</th>\n",
       "      <td>240.0</td>\n",
       "      <td>60</td>\n",
       "      <td>3600</td>\n",
       "      <td>216000</td>\n",
       "      <td>12960000</td>\n",
       "      <td>777600000</td>\n",
       "    </tr>\n",
       "    <tr>\n",
       "      <th>9</th>\n",
       "      <td>265.0</td>\n",
       "      <td>65</td>\n",
       "      <td>4225</td>\n",
       "      <td>274625</td>\n",
       "      <td>17850625</td>\n",
       "      <td>1160290625</td>\n",
       "    </tr>\n",
       "  </tbody>\n",
       "</table>\n",
       "</div>"
      ],
      "text/plain": [
       "   Salary  Age  Age2    Age3      Age4        Age5\n",
       "0   135.0   25   625   15625    390625     9765625\n",
       "1   105.0   27   729   19683    531441    14348907\n",
       "2   105.0   30   900   27000    810000    24300000\n",
       "3   220.0   35  1225   42875   1500625    52521875\n",
       "4   300.0   40  1600   64000   2560000   102400000\n",
       "5   270.0   45  2025   91125   4100625   184528125\n",
       "6   265.0   50  2500  125000   6250000   312500000\n",
       "7   260.0   55  3025  166375   9150625   503284375\n",
       "8   240.0   60  3600  216000  12960000   777600000\n",
       "9   265.0   65  4225  274625  17850625  1160290625"
      ]
     },
     "execution_count": 54,
     "metadata": {},
     "output_type": "execute_result"
    }
   ],
   "source": [
    "df2['Salary'] = df2['Salary']/1000 \n",
    "df2['Age2']=df2['Age']**2\n",
    "df2['Age3']=df2['Age']**3\n",
    "df2['Age4']=df2['Age']**4\n",
    "df2['Age5']=df2['Age']**5\n",
    "df2"
   ]
  },
  {
   "cell_type": "markdown",
   "metadata": {},
   "source": [
    "We can compute the z-score in Pandas using the .mean() and std() methods."
   ]
  },
  {
   "cell_type": "code",
   "execution_count": 55,
   "metadata": {},
   "outputs": [
    {
     "data": {
      "text/html": [
       "<div>\n",
       "<style scoped>\n",
       "    .dataframe tbody tr th:only-of-type {\n",
       "        vertical-align: middle;\n",
       "    }\n",
       "\n",
       "    .dataframe tbody tr th {\n",
       "        vertical-align: top;\n",
       "    }\n",
       "\n",
       "    .dataframe thead th {\n",
       "        text-align: right;\n",
       "    }\n",
       "</style>\n",
       "<table border=\"1\" class=\"dataframe\">\n",
       "  <thead>\n",
       "    <tr style=\"text-align: right;\">\n",
       "      <th></th>\n",
       "      <th>Salary</th>\n",
       "      <th>Age</th>\n",
       "      <th>Age2</th>\n",
       "      <th>Age3</th>\n",
       "      <th>Age4</th>\n",
       "      <th>Age5</th>\n",
       "    </tr>\n",
       "  </thead>\n",
       "  <tbody>\n",
       "    <tr>\n",
       "      <th>0</th>\n",
       "      <td>135.0</td>\n",
       "      <td>-1.289948</td>\n",
       "      <td>-1.128109</td>\n",
       "      <td>-0.988322</td>\n",
       "      <td>-0.873562</td>\n",
       "      <td>-0.782128</td>\n",
       "    </tr>\n",
       "    <tr>\n",
       "      <th>1</th>\n",
       "      <td>105.0</td>\n",
       "      <td>-1.148195</td>\n",
       "      <td>-1.045510</td>\n",
       "      <td>-0.943059</td>\n",
       "      <td>-0.849996</td>\n",
       "      <td>-0.770351</td>\n",
       "    </tr>\n",
       "    <tr>\n",
       "      <th>2</th>\n",
       "      <td>105.0</td>\n",
       "      <td>-0.935566</td>\n",
       "      <td>-0.909699</td>\n",
       "      <td>-0.861444</td>\n",
       "      <td>-0.803378</td>\n",
       "      <td>-0.744782</td>\n",
       "    </tr>\n",
       "    <tr>\n",
       "      <th>3</th>\n",
       "      <td>220.0</td>\n",
       "      <td>-0.581185</td>\n",
       "      <td>-0.651577</td>\n",
       "      <td>-0.684372</td>\n",
       "      <td>-0.687799</td>\n",
       "      <td>-0.672266</td>\n",
       "    </tr>\n",
       "    <tr>\n",
       "      <th>4</th>\n",
       "      <td>300.0</td>\n",
       "      <td>-0.226804</td>\n",
       "      <td>-0.353745</td>\n",
       "      <td>-0.448740</td>\n",
       "      <td>-0.510508</td>\n",
       "      <td>-0.544103</td>\n",
       "    </tr>\n",
       "    <tr>\n",
       "      <th>5</th>\n",
       "      <td>270.0</td>\n",
       "      <td>0.127577</td>\n",
       "      <td>-0.016202</td>\n",
       "      <td>-0.146184</td>\n",
       "      <td>-0.252677</td>\n",
       "      <td>-0.333075</td>\n",
       "    </tr>\n",
       "    <tr>\n",
       "      <th>6</th>\n",
       "      <td>265.0</td>\n",
       "      <td>0.481958</td>\n",
       "      <td>0.361052</td>\n",
       "      <td>0.231663</td>\n",
       "      <td>0.107030</td>\n",
       "      <td>-0.004250</td>\n",
       "    </tr>\n",
       "    <tr>\n",
       "      <th>7</th>\n",
       "      <td>260.0</td>\n",
       "      <td>0.836340</td>\n",
       "      <td>0.778017</td>\n",
       "      <td>0.693166</td>\n",
       "      <td>0.592463</td>\n",
       "      <td>0.485972</td>\n",
       "    </tr>\n",
       "    <tr>\n",
       "      <th>8</th>\n",
       "      <td>240.0</td>\n",
       "      <td>1.190721</td>\n",
       "      <td>1.234693</td>\n",
       "      <td>1.246690</td>\n",
       "      <td>1.229979</td>\n",
       "      <td>1.190828</td>\n",
       "    </tr>\n",
       "    <tr>\n",
       "      <th>9</th>\n",
       "      <td>265.0</td>\n",
       "      <td>1.545102</td>\n",
       "      <td>1.731080</td>\n",
       "      <td>1.900602</td>\n",
       "      <td>2.048447</td>\n",
       "      <td>2.174155</td>\n",
       "    </tr>\n",
       "  </tbody>\n",
       "</table>\n",
       "</div>"
      ],
      "text/plain": [
       "   Salary       Age      Age2      Age3      Age4      Age5\n",
       "0   135.0 -1.289948 -1.128109 -0.988322 -0.873562 -0.782128\n",
       "1   105.0 -1.148195 -1.045510 -0.943059 -0.849996 -0.770351\n",
       "2   105.0 -0.935566 -0.909699 -0.861444 -0.803378 -0.744782\n",
       "3   220.0 -0.581185 -0.651577 -0.684372 -0.687799 -0.672266\n",
       "4   300.0 -0.226804 -0.353745 -0.448740 -0.510508 -0.544103\n",
       "5   270.0  0.127577 -0.016202 -0.146184 -0.252677 -0.333075\n",
       "6   265.0  0.481958  0.361052  0.231663  0.107030 -0.004250\n",
       "7   260.0  0.836340  0.778017  0.693166  0.592463  0.485972\n",
       "8   240.0  1.190721  1.234693  1.246690  1.229979  1.190828\n",
       "9   265.0  1.545102  1.731080  1.900602  2.048447  2.174155"
      ]
     },
     "execution_count": 55,
     "metadata": {},
     "output_type": "execute_result"
    }
   ],
   "source": [
    "# apply the z-score method in Pandas using the .mean() and .std() methods\n",
    "def z_score(df):\n",
    "    # copy the dataframe\n",
    "    df_std = df.copy()\n",
    "    # apply the z-score method\n",
    "    for column in df_std.columns:\n",
    "        df_std[column] = (df_std[column] - df_std[column].mean()) / df_std[column].std()\n",
    "        \n",
    "    return df_std\n",
    "    \n",
    "# call the z_score function\n",
    "df2_standard = z_score(df2)\n",
    "df2_standard['Salary'] = df2['Salary']\n",
    "df2_standard"
   ]
  },
  {
   "cell_type": "code",
   "execution_count": 56,
   "metadata": {},
   "outputs": [],
   "source": [
    "y = df2_standard['Salary']\n",
    "X = df2_standard.drop('Salary',axis=1)"
   ]
  },
  {
   "cell_type": "code",
   "execution_count": 57,
   "metadata": {},
   "outputs": [
    {
     "name": "stdout",
     "output_type": "stream",
     "text": [
      "Coefficients: \n",
      " [ -32622.57240727  135402.73116519 -215493.11781297  155314.61367273\n",
      "  -42558.76209732]\n",
      "Mean squared error: 149.82\n"
     ]
    }
   ],
   "source": [
    "from sklearn.linear_model import LinearRegression\n",
    "from sklearn.linear_model import Ridge\n",
    "from sklearn.metrics import mean_squared_error, r2_score\n",
    "\n",
    "lr = LinearRegression()\n",
    "lr.fit(X, y)\n",
    "\n",
    "y_pred = lr.predict(X)\n",
    "\n",
    "# The coefficients\n",
    "print('Coefficients: \\n', lr.coef_)\n",
    "# The mean squared error\n",
    "print('Mean squared error: %.2f'\n",
    "      % mean_squared_error(y, y_pred))\n"
   ]
  },
  {
   "cell_type": "code",
   "execution_count": 58,
   "metadata": {},
   "outputs": [
    {
     "data": {
      "image/png": "[encoded data removed]",
      "text/plain": [
       "<Figure size 720x288 with 1 Axes>"
      ]
     },
     "metadata": {},
     "output_type": "display_data"
    }
   ],
   "source": [
    "# Plot outputs\n",
    "plt.scatter(X['Age'], y,  color='black')\n",
    "plt.plot(X['Age'], y_pred, color='blue', linewidth=3)\n",
    "\n",
    "plt.xticks(())\n",
    "plt.yticks(())\n",
    "\n",
    "plt.show()"
   ]
  },
  {
   "cell_type": "code",
   "execution_count": 59,
   "metadata": {},
   "outputs": [],
   "source": [
    "rr = Ridge(alpha=0.1, normalize=True) \n",
    "# higher the alpha value, more restriction on the coefficients; low alpha > more generalization,\n",
    "# in this case linear and ridge regression resembles\n",
    "rr.fit(X, y)\n",
    "\n",
    "y_pred_r = rr.predict(X)\n"
   ]
  },
  {
   "cell_type": "code",
   "execution_count": 60,
   "metadata": {},
   "outputs": [
    {
     "data": {
      "image/png": "[encoded data removed]",
      "text/plain": [
       "<Figure size 720x288 with 1 Axes>"
      ]
     },
     "metadata": {},
     "output_type": "display_data"
    }
   ],
   "source": [
    "# Plot outputs\n",
    "plt.scatter(X['Age'], y,  color='black')\n",
    "plt.plot(X['Age'], y_pred_r, color='blue', linewidth=3)\n",
    "\n",
    "plt.xticks(())\n",
    "plt.yticks(())\n",
    "\n",
    "plt.show()"
   ]
  },
  {
   "cell_type": "code",
   "execution_count": 61,
   "metadata": {},
   "outputs": [
    {
     "name": "stdout",
     "output_type": "stream",
     "text": [
      "Coefficients: \n",
      " [ 59.22629315  29.03476514   3.29697763 -16.42544961 -30.17329953]\n",
      "Mean squared error: 1615.07\n"
     ]
    }
   ],
   "source": [
    "# The coefficients\n",
    "print('Coefficients: \\n', rr.coef_)\n",
    "# The mean squared error\n",
    "print('Mean squared error: %.2f'\n",
    "      % mean_squared_error(y, y_pred_r))"
   ]
  },
  {
   "cell_type": "markdown",
   "metadata": {},
   "source": [
    "### Lasso Regression\n",
    "\n"
   ]
  },
  {
   "cell_type": "markdown",
   "metadata": {},
   "source": [
    "Lasso is short for \\textit{Least Absolute Shrinkage and Selection Operator}. It is similar to ridge regression except we minimize\n",
    "\n",
    "\\begin{equation}\n",
    "\t\t\\frac{1}{2N} \\sum\\limits_{n=1}^N \\left[h_\\theta \\left( x^{(n)} \\right) - y ^{(n)}\\right]^2 + \\lambda \\sum\\limits_{n=1}^N \\vert b_n \\vert \\notag\n",
    "\\end{equation}\n",
    "\n",
    "This function cannot be minimized analytically and so a variation on the gradient descent algorithm must be used. Lasso regression also has the effect of simplifying the model. It does this by setting the weights of unimportant features to zero. When there are a large number of features, Lasso can identify a relatively small subset of the features that form a good predictive model."
   ]
  },
  {
   "cell_type": "code",
   "execution_count": 62,
   "metadata": {},
   "outputs": [],
   "source": [
    "from sklearn.linear_model import Lasso\n",
    "\n",
    "lsr = Lasso(alpha=.02, normalize=True, max_iter=1000000) \n",
    "# higher the alpha value, more restriction on the coefficients; low alpha > more generalization,\n",
    "# in this case linear and ridge regression resembles\n",
    "lsr.fit(X, y)\n",
    "\n",
    "y_pred_lsr = rr.predict(X)"
   ]
  },
  {
   "cell_type": "code",
   "execution_count": 63,
   "metadata": {},
   "outputs": [
    {
     "name": "stdout",
     "output_type": "stream",
     "text": [
      "Coefficients: \n",
      " [ 344.99709034   -0.         -471.80600937   -0.          183.42041303]\n",
      "Mean squared error: 1615.07\n"
     ]
    }
   ],
   "source": [
    "# The coefficients\n",
    "print('Coefficients: \\n', lsr.coef_)\n",
    "# The mean squared error\n",
    "print('Mean squared error: %.2f'\n",
    "      % mean_squared_error(y, y_pred_lsr))"
   ]
  },
  {
   "cell_type": "code",
   "execution_count": 64,
   "metadata": {},
   "outputs": [
    {
     "data": {
      "image/png": "[encoded data removed]",
      "text/plain": [
       "<Figure size 720x288 with 1 Axes>"
      ]
     },
     "metadata": {},
     "output_type": "display_data"
    }
   ],
   "source": [
    "# Plot outputs\n",
    "plt.scatter(X['Age'], y,  color='black')\n",
    "plt.plot(X['Age'], y_pred_lsr, color='blue', linewidth=3)\n",
    "\n",
    "plt.xticks(())\n",
    "plt.yticks(())\n",
    "\n",
    "plt.show()"
   ]
  },
  {
   "cell_type": "markdown",
   "metadata": {},
   "source": [
    "### Elastic Net Regression"
   ]
  },
  {
   "cell_type": "markdown",
   "metadata": {},
   "source": [
    "Middle ground between Ridge and Lasso. Minimize\n",
    "\n",
    "\\begin{equation}\n",
    "\t\t\\frac{1}{2N} \\sum\\limits_{n=1}^N \\left[h_\\theta \\left( x^{(n)} \\right) - y ^{(n)}\\right]^2 + \\lambda_1 \\sum\\limits_{n=1}^N b_n^2 + \\lambda_2 \\sum\\limits_{n=1}^N \\vert b_n \\vert \\notag\n",
    "\\end{equation}\n",
    "\n",
    "In Lasso some weights are reduced to zero but others may be quite large. In Ridge, weights are small in magnitude but they are not reduced to zero. The idea underlying Elastic Net is that we may be able to get the best of both by making some weights zero while reducing the magnitude of the others."
   ]
  },
  {
   "cell_type": "code",
   "execution_count": 115,
   "metadata": {},
   "outputs": [],
   "source": [
    "from sklearn.linear_model import ElasticNet\n",
    "\n",
    "# define model\n",
    "model = ElasticNet(alpha=1.0, l1_ratio=0.5)"
   ]
  },
  {
   "cell_type": "markdown",
   "metadata": {},
   "source": [
    "# What is Unsupervised Learning"
   ]
  },
  {
   "cell_type": "markdown",
   "metadata": {},
   "source": [
    "Unsupervised learning uses machine learning algorithms to analyze and cluster unlabeled datasets. These algorithms discover hidden patterns or data groupings without the need for human intervention. Its ability to discover similarities and differences in information make it the ideal solution for exploratory data analysis, cross-selling strategies, customer segmentation, and image recognition."
   ]
  },
  {
   "cell_type": "markdown",
   "metadata": {},
   "source": [
    "## *k*-Means Clustering"
   ]
  },
  {
   "cell_type": "markdown",
   "metadata": {},
   "source": [
    "*k*-means clustering is one of the simplest and popular unsupervised machine learning algorithms.\n",
    "Typically, unsupervised algorithms make inferences from datasets using only input vectors without referring to known, or labelled, outcomes. The objective of K-means is simple: group similar data points together and discover underlying patterns. To achieve this objective, K-means looks for a fixed number (k) of clusters in a dataset.\n",
    "\n",
    "A cluster refers to a collection of data points aggregated together because of certain similarities. You’ll define a target number k, which refers to the number of centroids you need in the dataset. A centroid is the imaginary or real location representing the center of the cluster.\n",
    "\n",
    "Every data point is allocated to each of the clusters through reducing the in-cluster sum of squares.\n",
    "In other words, the K-means algorithm identifies k number of centroids, and then allocates every data point to the **nearest** cluster, while keeping the centroids as small as possible.\n",
    "\n",
    "The ‘means’ in the K-means refers to averaging of the data; that is, finding the centroid.\n",
    "\n",
    "### How the K-means algorithm works\n",
    "\n",
    "To process the learning data, the K-means algorithm in data mining starts with a first group of randomly selected centroids, which are used as the beginning points for every cluster, and then performs iterative (repetitive) calculations to optimize the positions of the centroids. It halts creating and optimizing clusters when either:\n",
    "\n",
    "- The centroids have stabilized — there is no change in their values because the clustering has been successful.\n",
    "- The defined number of iterations has been achieved.\n",
    "\n",
    "### A Distance Measure\n",
    "\n",
    "For clustering we need a distance measure. The simplest distance measure is the Euclidean Distance measure:\n",
    "\n",
    "$$\n",
    "Distance = \\sqrt{(x_B-x_B)^2 + (y_B - y_A)^2}\n",
    "$$\n",
    "\n",
    "### K-means algorithm example problem\n",
    "Let’s see the steps on how the K-means machine learning algorithm works using the Python programming language.\n",
    "We’ll use the Scikit-learn library and some random data to illustrate a K-means clustering simple explanation."
   ]
  },
  {
   "cell_type": "code",
   "execution_count": 65,
   "metadata": {},
   "outputs": [],
   "source": [
    "import pandas as pd\n",
    "import numpy as np\n",
    "import matplotlib.pyplot as plt\n",
    "from sklearn.cluster import KMeans\n",
    "%matplotlib inline"
   ]
  },
  {
   "cell_type": "markdown",
   "metadata": {},
   "source": [
    "Here is the code for generating some random data in a two-dimensional space:"
   ]
  },
  {
   "cell_type": "code",
   "execution_count": 66,
   "metadata": {},
   "outputs": [
    {
     "data": {
      "image/png": "[encoded data removed]",
      "text/plain": [
       "<Figure size 432x288 with 1 Axes>"
      ]
     },
     "metadata": {
      "needs_background": "light"
     },
     "output_type": "display_data"
    }
   ],
   "source": [
    "X= -2 * np.random.rand(100,2)\n",
    "X1 = 1 + 2 * np.random.rand(50,2)\n",
    "X[50:100, :] = X1\n",
    "plt.scatter(X[ : , 0], X[ :, 1], s = 50, c = 'b')\n",
    "plt.show()"
   ]
  },
  {
   "cell_type": "markdown",
   "metadata": {},
   "source": [
    "We’ll use some of the available functions in the Scikit-learn library to process the randomly generated data."
   ]
  },
  {
   "cell_type": "code",
   "execution_count": 67,
   "metadata": {},
   "outputs": [
    {
     "data": {
      "text/plain": [
       "KMeans(n_clusters=2)"
      ]
     },
     "execution_count": 67,
     "metadata": {},
     "output_type": "execute_result"
    }
   ],
   "source": [
    "from sklearn.cluster import KMeans\n",
    "Kmean = KMeans(n_clusters=2)\n",
    "Kmean.fit(X)"
   ]
  },
  {
   "cell_type": "markdown",
   "metadata": {},
   "source": [
    "In this case, we arbitrarily gave k (n_clusters) an arbitrary value of two.\n",
    "Here is the output of the K-means parameters we get if we run the code:"
   ]
  },
  {
   "cell_type": "code",
   "execution_count": 68,
   "metadata": {},
   "outputs": [
    {
     "data": {
      "text/plain": [
       "KMeans(n_clusters=2, n_jobs=1, precompute_distances='auto')"
      ]
     },
     "execution_count": 68,
     "metadata": {},
     "output_type": "execute_result"
    }
   ],
   "source": [
    "KMeans(algorithm='auto', copy_x=True, init='k-means++', max_iter=300,\n",
    " n_clusters=2, n_init=10, n_jobs=1, precompute_distances='auto',\n",
    " random_state=None, tol=0.0001, verbose=0)"
   ]
  },
  {
   "cell_type": "code",
   "execution_count": 69,
   "metadata": {},
   "outputs": [
    {
     "data": {
      "text/plain": [
       "array([[ 1.90034041,  2.10912759],\n",
       "       [-0.93233032, -0.94681146]])"
      ]
     },
     "execution_count": 69,
     "metadata": {},
     "output_type": "execute_result"
    }
   ],
   "source": [
    "Kmean.cluster_centers_"
   ]
  },
  {
   "cell_type": "markdown",
   "metadata": {},
   "source": [
    "Let's display the cluster centroids"
   ]
  },
  {
   "cell_type": "code",
   "execution_count": 70,
   "metadata": {},
   "outputs": [
    {
     "data": {
      "image/png": "[encoded data removed]",
      "text/plain": [
       "<Figure size 432x288 with 1 Axes>"
      ]
     },
     "metadata": {
      "needs_background": "light"
     },
     "output_type": "display_data"
    }
   ],
   "source": [
    "plt.scatter(X[ : , 0], X[ : , 1], s =50, c='b')\n",
    "plt.scatter(-0.94665068, -0.97138368, s=200, c='g', marker='s')\n",
    "plt.scatter(2.01559419, 2.02597093, s=200, c='r', marker='s')\n",
    "plt.show()"
   ]
  },
  {
   "cell_type": "markdown",
   "metadata": {},
   "source": [
    "Here is the code for getting the labels property of the K-means clustering example dataset; that is, how the data points are categorized into the two clusters."
   ]
  },
  {
   "cell_type": "code",
   "execution_count": 71,
   "metadata": {},
   "outputs": [
    {
     "data": {
      "text/plain": [
       "array([1, 1, 1, 1, 1, 1, 1, 1, 1, 1, 1, 1, 1, 1, 1, 1, 1, 1, 1, 1, 1, 1,\n",
       "       1, 1, 1, 1, 1, 1, 1, 1, 1, 1, 1, 1, 1, 1, 1, 1, 1, 1, 1, 1, 1, 1,\n",
       "       1, 1, 1, 1, 1, 1, 0, 0, 0, 0, 0, 0, 0, 0, 0, 0, 0, 0, 0, 0, 0, 0,\n",
       "       0, 0, 0, 0, 0, 0, 0, 0, 0, 0, 0, 0, 0, 0, 0, 0, 0, 0, 0, 0, 0, 0,\n",
       "       0, 0, 0, 0, 0, 0, 0, 0, 0, 0, 0, 0])"
      ]
     },
     "execution_count": 71,
     "metadata": {},
     "output_type": "execute_result"
    }
   ],
   "source": [
    "Kmean.labels_"
   ]
  },
  {
   "cell_type": "markdown",
   "metadata": {},
   "source": [
    "As you can see above, 50 data points belong to the 0 cluster while the rest belong to the 1 cluster."
   ]
  },
  {
   "cell_type": "markdown",
   "metadata": {},
   "source": [
    "For example, let’s use the code below for predicting the cluster of a data point:"
   ]
  },
  {
   "cell_type": "code",
   "execution_count": 72,
   "metadata": {},
   "outputs": [
    {
     "data": {
      "text/plain": [
       "array([1])"
      ]
     },
     "execution_count": 72,
     "metadata": {},
     "output_type": "execute_result"
    }
   ],
   "source": [
    "sample_test=np.array([-3.0,-3.0])\n",
    "second_test=sample_test.reshape(1, -1)\n",
    "Kmean.predict(second_test)"
   ]
  },
  {
   "cell_type": "markdown",
   "metadata": {},
   "source": [
    "## A Country Risk Example"
   ]
  },
  {
   "cell_type": "code",
   "execution_count": 73,
   "metadata": {},
   "outputs": [],
   "source": [
    "# loading packages SPOSTARE ALL'INIZIO DEL DOCUMENTO\n",
    "\n",
    "import os\n",
    "\n",
    "import pandas as pd\n",
    "import numpy as np\n",
    "\n",
    "# plotting packages\n",
    "%matplotlib inline\n",
    "from mpl_toolkits.mplot3d import Axes3D\n",
    "import matplotlib.pyplot as plt\n",
    "import matplotlib.cm as cm\n",
    "import matplotlib.colors as clrs\n",
    "\n",
    "# Kmeans algorithm from scikit-learn\n",
    "from sklearn.cluster import KMeans\n",
    "from sklearn.metrics import silhouette_samples, silhouette_score"
   ]
  },
  {
   "cell_type": "code",
   "execution_count": 74,
   "metadata": {},
   "outputs": [
    {
     "name": "stdout",
     "output_type": "stream",
     "text": [
      "Size of the dataset (row, col):  (122, 6)\n",
      "\n",
      "First 5 rows\n",
      "      Country Abbrev  Corruption  Peace  Legal  GDP Growth\n",
      "0    Albania     AL          39  1.867  3.822       3.403\n",
      "1    Algeria     DZ          34  2.213  4.160       4.202\n",
      "2  Argentina     AR          36  1.957  4.568      -2.298\n",
      "3    Armenia     AM          33  2.218  4.126       0.208\n",
      "4  Australia     AU          79  1.465  8.244       2.471\n"
     ]
    }
   ],
   "source": [
    "# load raw data\n",
    "DATA_FOLDER = './data'\n",
    "raw = pd.read_csv(os.path.join(DATA_FOLDER, 'countryriskdata.csv'))\n",
    "\n",
    "# check the raw data\n",
    "print(\"Size of the dataset (row, col): \", raw.shape)\n",
    "print(\"\\nFirst 5 rows\\n\", raw.head(n=5))"
   ]
  },
  {
   "cell_type": "markdown",
   "metadata": {},
   "source": [
    "### Simple exploratory analysis\n",
    "\n",
    "**Print summary statistics**\n",
    "\n",
    "Note that all features have quite different variances, and Corruption and Legal are highly correlated."
   ]
  },
  {
   "cell_type": "code",
   "execution_count": 75,
   "metadata": {},
   "outputs": [
    {
     "name": "stdout",
     "output_type": "stream",
     "text": [
      "\n",
      "Summary statistics\n",
      "        Corruption       Peace       Legal  GDP Growth\n",
      "count  122.000000  122.000000  122.000000  122.000000\n",
      "mean    46.237705    2.003730    5.598861    2.372566\n",
      "std     19.126397    0.447826    1.487328    3.241424\n",
      "min     14.000000    1.192000    2.728000  -18.000000\n",
      "25%     31.250000    1.684750    4.571750    1.432250\n",
      "50%     40.000000    1.969000    5.274000    2.496000\n",
      "75%     58.750000    2.280500    6.476750    4.080000\n",
      "max     90.000000    3.399000    8.633000    7.958000\n",
      "\n",
      "Correlation matrix\n",
      "             Corruption     Peace     Legal  GDP Growth\n",
      "Corruption    1.000000 -0.700477  0.923589    0.102513\n",
      "Peace        -0.700477  1.000000 -0.651961   -0.199855\n",
      "Legal         0.923589 -0.651961  1.000000    0.123440\n",
      "GDP Growth    0.102513 -0.199855  0.123440    1.000000\n"
     ]
    }
   ],
   "source": [
    "# print summary statistics\n",
    "print(\"\\nSummary statistics\\n\", raw.describe())\n",
    "print(\"\\nCorrelation matrix\\n\", raw.corr())"
   ]
  },
  {
   "cell_type": "markdown",
   "metadata": {},
   "source": [
    "**Plot histogram**\n",
    "\n",
    "Note that distributions for GDP Growth is quite skewed."
   ]
  },
  {
   "cell_type": "code",
   "execution_count": 76,
   "metadata": {},
   "outputs": [
    {
     "data": {
      "image/png": "[encoded data removed]",
      "text/plain": [
       "<Figure size 432x288 with 1 Axes>"
      ]
     },
     "metadata": {
      "needs_background": "light"
     },
     "output_type": "display_data"
    },
    {
     "data": {
      "image/png": "[encoded data removed]",
      "text/plain": [
       "<Figure size 432x288 with 1 Axes>"
      ]
     },
     "metadata": {
      "needs_background": "light"
     },
     "output_type": "display_data"
    },
    {
     "data": {
      "image/png": "[encoded data removed]",
      "text/plain": [
       "<Figure size 432x288 with 1 Axes>"
      ]
     },
     "metadata": {
      "needs_background": "light"
     },
     "output_type": "display_data"
    },
    {
     "data": {
      "image/png": "[encoded data removed]",
      "text/plain": [
       "<Figure size 432x288 with 1 Axes>"
      ]
     },
     "metadata": {
      "needs_background": "light"
     },
     "output_type": "display_data"
    }
   ],
   "source": [
    "# plot histograms\n",
    "plt.figure(1)\n",
    "raw['Corruption'].plot(kind = 'hist', title = 'Corruption', alpha = 0.5)\n",
    "\n",
    "plt.figure(2)\n",
    "raw['Peace'].plot(kind = 'hist', title = 'Peace', alpha = 0.5)\n",
    "\n",
    "plt.figure(3)\n",
    "raw['Legal'].plot(kind = 'hist', title = 'Legal', alpha = 0.5)\n",
    "\n",
    "plt.figure(4)\n",
    "raw['GDP Growth'].plot(kind = 'hist', title = 'GDP Growth', alpha = 0.5)\n",
    "\n",
    "plt.show()"
   ]
  },
  {
   "cell_type": "markdown",
   "metadata": {},
   "source": [
    "### K means cluster\n",
    "\n",
    "**Pick features & normalization**\n",
    "\n",
    "Since Corruption and Legal are highly correlated, we drop the Courrption variable, i.e., we pick three features for this analysis, Peace, Legal and GDP Grwoth. Let's normalize all the features, effectively making them equally weighted.\n",
    "\n",
    "Ref. [Feature normalization.](https://stats.stackexchange.com/questions/21222/are-mean-normalization-and-feature-scaling-needed-for-k-means-clustering)"
   ]
  },
  {
   "cell_type": "code",
   "execution_count": 77,
   "metadata": {
    "scrolled": true
   },
   "outputs": [
    {
     "name": "stdout",
     "output_type": "stream",
     "text": [
      "      Peace     Legal  GDP Growth\n",
      "0 -0.305319 -1.194666    0.317896\n",
      "1  0.467304 -0.967413    0.564392\n",
      "2 -0.104348 -0.693096   -1.440899\n",
      "3  0.478469 -0.990273   -0.667782\n",
      "4 -1.202990  1.778450    0.030368\n"
     ]
    }
   ],
   "source": [
    "X = raw[['Peace', 'Legal', 'GDP Growth']]\n",
    "X = (X - X.mean()) / X.std()\n",
    "print(X.head(5))"
   ]
  },
  {
   "cell_type": "markdown",
   "metadata": {},
   "source": [
    "### Perform elbow method\n",
    "\n",
    "The marginal gain of adding one cluster dropped quite a bit from k=3 to k=4. We will choose k=3 (not a clear cut though).\n",
    "\n",
    "Ref. [Determining the number of clusters in a dataset.](https://en.wikipedia.org/wiki/Determining_the_number_of_clusters_in_a_data_set)"
   ]
  },
  {
   "cell_type": "code",
   "execution_count": 78,
   "metadata": {},
   "outputs": [
    {
     "data": {
      "image/png": "[encoded data removed]",
      "text/plain": [
       "<Figure size 432x288 with 1 Axes>"
      ]
     },
     "metadata": {
      "needs_background": "light"
     },
     "output_type": "display_data"
    }
   ],
   "source": [
    "# https://stackoverflow.com/questions/41540751/sklearn-kmeans-equivalent-of-elbow-method\n",
    "\n",
    "Ks = range(1, 10)\n",
    "inertia = [KMeans(i).fit(X).inertia_ for i in Ks]\n",
    "\n",
    "fig = plt.figure()\n",
    "plt.plot(Ks, inertia, '-bo')\n",
    "plt.xlabel('Number of clusters')\n",
    "plt.ylabel('Inertia (within-cluster sum of squares)')\n",
    "plt.show()"
   ]
  },
  {
   "cell_type": "markdown",
   "metadata": {},
   "source": [
    "***k*-means with k=3**"
   ]
  },
  {
   "cell_type": "code",
   "execution_count": 79,
   "metadata": {},
   "outputs": [
    {
     "name": "stdout",
     "output_type": "stream",
     "text": [
      "inertia for k=2 is 157.551489241025\n",
      "cluster centers:  [[-0.92810589  1.16641329 -0.01445833]\n",
      " [ 1.21562552 -1.01677118 -1.61496953]\n",
      " [ 0.25320926 -0.45186802  0.43127408]]\n",
      "cluster labels:  [2 2 1 1 0 0 1 2 2 0 2 2 2 0 1 2 1 2 0 1 0 2 2 0 2 2 0 1 0 2 1 2 2 0 2 0 0\n",
      " 2 2 0 2 2 2 2 0 0 2 2 2 0 2 0 2 0 2 2 2 0 2 2 1 1 0 2 2 0 2 2 0 2 2 2 2 2\n",
      " 2 0 0 2 1 0 2 2 2 2 2 2 0 0 0 2 1 2 2 2 2 2 0 0 0 0 0 2 0 0 0 2 2 2 1 2 2\n",
      " 2 1 0 0 0 0 1 2 1 2 1]\n"
     ]
    }
   ],
   "source": [
    "k = 3\n",
    "kmeans = KMeans(n_clusters=k, random_state=0)\n",
    "kmeans.fit(X)\n",
    "\n",
    "# print inertia & cluster center\n",
    "print(\"inertia for k=2 is\", kmeans.inertia_)\n",
    "print(\"cluster centers: \", kmeans.cluster_centers_)\n",
    "\n",
    "# take a quick look at the result\n",
    "y = kmeans.labels_\n",
    "print(\"cluster labels: \", y)"
   ]
  },
  {
   "cell_type": "markdown",
   "metadata": {},
   "source": [
    "**Visualize the result (3D plot)**"
   ]
  },
  {
   "cell_type": "code",
   "execution_count": 80,
   "metadata": {},
   "outputs": [
    {
     "data": {
      "image/png": "[encoded data removed]",
      "text/plain": [
       "<Figure size 432x288 with 1 Axes>"
      ]
     },
     "metadata": {
      "needs_background": "light"
     },
     "output_type": "display_data"
    }
   ],
   "source": [
    "# set up the color\n",
    "norm = clrs.Normalize(vmin=0.,vmax=y.max() + 0.8)\n",
    "cmap = cm.viridis\n",
    "\n",
    "fig = plt.figure()\n",
    "ax = fig.add_subplot(111, projection='3d')\n",
    "\n",
    "ax.scatter(X.iloc[:,0], X.iloc[:,1], X.iloc[:,2], c=cmap(norm(y)), marker='o')\n",
    "\n",
    "centers = kmeans.cluster_centers_\n",
    "ax.scatter(centers[:, 0], centers[:, 1], c='black', s=100, alpha=0.5)\n",
    "\n",
    "ax.set_xlabel('Peace')\n",
    "ax.set_ylabel('Legal')\n",
    "ax.set_zlabel('GDP Growth')\n",
    "\n",
    "plt.show()"
   ]
  },
  {
   "cell_type": "markdown",
   "metadata": {},
   "source": [
    "**Visualize the result (3 2D plots)**"
   ]
  },
  {
   "cell_type": "code",
   "execution_count": 81,
   "metadata": {},
   "outputs": [
    {
     "data": {
      "image/png": "[encoded data removed]",
      "text/plain": [
       "<Figure size 432x288 with 1 Axes>"
      ]
     },
     "metadata": {
      "needs_background": "light"
     },
     "output_type": "display_data"
    },
    {
     "data": {
      "image/png": "[encoded data removed]",
      "text/plain": [
       "<Figure size 432x288 with 1 Axes>"
      ]
     },
     "metadata": {
      "needs_background": "light"
     },
     "output_type": "display_data"
    },
    {
     "data": {
      "image/png": "[encoded data removed]",
      "text/plain": [
       "<Figure size 432x288 with 1 Axes>"
      ]
     },
     "metadata": {
      "needs_background": "light"
     },
     "output_type": "display_data"
    }
   ],
   "source": [
    "%matplotlib inline\n",
    "import matplotlib.pyplot as plt\n",
    "\n",
    "figs = [(0, 1), (0, 2), (1, 2)]\n",
    "labels = ['Peace', 'Legal', 'GDP Growth']\n",
    "\n",
    "for i in range(3):\n",
    "    fig = plt.figure(i)\n",
    "    plt.scatter(X.iloc[:,figs[i][0]], X.iloc[:,figs[i][1]], c=cmap(norm(y)), s=50)\n",
    "    plt.scatter(centers[:, figs[i][0]], centers[:, figs[i][1]], c='black', s=200, alpha=0.5)\n",
    "    plt.xlabel(labels[figs[i][0]])\n",
    "    plt.ylabel(labels[figs[i][1]])\n",
    "\n",
    "plt.show()"
   ]
  },
  {
   "cell_type": "markdown",
   "metadata": {},
   "source": [
    "**Visualize the result (3 2D plots)**\n",
    "\n",
    "plot country abbreviations instead of dots."
   ]
  },
  {
   "cell_type": "code",
   "execution_count": 82,
   "metadata": {},
   "outputs": [
    {
     "data": {
      "image/png": "[encoded data removed]",
      "text/plain": [
       "<Figure size 576x576 with 1 Axes>"
      ]
     },
     "metadata": {
      "needs_background": "light"
     },
     "output_type": "display_data"
    },
    {
     "data": {
      "image/png": "[encoded data removed]",
      "text/plain": [
       "<Figure size 576x576 with 1 Axes>"
      ]
     },
     "metadata": {
      "needs_background": "light"
     },
     "output_type": "display_data"
    },
    {
     "data": {
      "image/png": "[encoded data removed]",
      "text/plain": [
       "<Figure size 576x576 with 1 Axes>"
      ]
     },
     "metadata": {
      "needs_background": "light"
     },
     "output_type": "display_data"
    }
   ],
   "source": [
    "%matplotlib inline\n",
    "import matplotlib.pyplot as plt\n",
    "\n",
    "figs = [(0, 1), (0, 2), (1, 2)]\n",
    "labels = ['Peace', 'Legal', 'GDP Growth']\n",
    "colors = ['blue','green', 'red']\n",
    "\n",
    "for i in range(3):\n",
    "    fig = plt.figure(i, figsize=(8, 8))\n",
    "    x_1 = figs[i][0]\n",
    "    x_2 = figs[i][1]\n",
    "    plt.scatter(X.iloc[:, x_1], X.iloc[:, x_2], c=y, s=0, alpha=0)\n",
    "    plt.scatter(centers[:, x_1], centers[:, x_2], c='black', s=200, alpha=0.5)\n",
    "    for j in range(X.shape[0]):\n",
    "        plt.text(X.iloc[j, x_1], X.iloc[j, x_2], raw['Abbrev'].iloc[j], \n",
    "                 color=colors[y[j]], weight='semibold', horizontalalignment = 'center', verticalalignment = 'center')\n",
    "    plt.xlabel(labels[x_1])\n",
    "    plt.ylabel(labels[x_2])\n",
    "\n",
    "plt.show()"
   ]
  },
  {
   "cell_type": "markdown",
   "metadata": {},
   "source": [
    "### List the result"
   ]
  },
  {
   "cell_type": "code",
   "execution_count": 83,
   "metadata": {},
   "outputs": [
    {
     "name": "stdout",
     "output_type": "stream",
     "text": [
      "                          Country Abbrev  Label\n",
      "23                     Costa Rica     CR      0\n",
      "88                          Qatar     QA      0\n",
      "26                 Czech Republic     CI      0\n",
      "87                       Portugal     PT      0\n",
      "28                        Denmark     DK      0\n",
      "86                         Poland     PL      0\n",
      "79                         Norway     NO      0\n",
      "76                    New Zealand     NZ      0\n",
      "33                        Estonia     EE      0\n",
      "75                    Netherlands     NL      0\n",
      "35                        Finland     FI      0\n",
      "36                         France     FR      0\n",
      "68                      Mauritius     MU      0\n",
      "65                       Malaysia     MY      0\n",
      "39                        Germany     DE      0\n",
      "62                      Lithuania     LT      0\n",
      "57                  Korea (South)     KI      0\n",
      "53                          Japan     JP      0\n",
      "44                        Hungary     HU      0\n",
      "45                        Iceland     IS      0\n",
      "51                          Italy     IT      0\n",
      "96                      Singapore     SG      0\n",
      "49                        Ireland     IE      0\n",
      "20                          Chile     CL      0\n",
      "115                 United States     US      0\n",
      "114                United Kingdom     GB      0\n",
      "113          United Arab Emirates     AE      0\n",
      "9                         Belgium     BE      0\n",
      "97                       Slovakia     SK      0\n",
      "116                       Uruguay     UY      0\n",
      "104                        Taiwan     SY      0\n",
      "5                         Austria     AT      0\n",
      "13                       Botswana     BW      0\n",
      "103                   Switzerland     CH      0\n",
      "102                        Sweden     SE      0\n",
      "100                         Spain     ES      0\n",
      "99                   South Africa     ZA      0\n",
      "18                         Canada     CA      0\n",
      "98                       Slovenia     SI      0\n",
      "4                       Australia     AU      0\n",
      "119                         Yemen     YE      1\n",
      "117                     Venezuela     VE      1\n",
      "112                       Ukraine     UA      1\n",
      "108           Trinidad and Tobago     TT      1\n",
      "78                        Nigeria     NG      1\n",
      "90                         Russia     RO      1\n",
      "61                        Liberia     LR      1\n",
      "60                        Lebanon     LB      1\n",
      "121                      Zimbabwe     ZW      1\n",
      "14                         Brazil     BR      1\n",
      "19                           Chad     TD      1\n",
      "27   Democratic Republic of Congo     CI      1\n",
      "30                        Ecuador     EC      1\n",
      "6                      Azerbaijan     AZ      1\n",
      "16                        Burundi     BI      1\n",
      "2                       Argentina     AR      1\n",
      "3                         Armenia     AM      1\n",
      "24                        Croatia     HR      2\n",
      "91                         Rwanda     RW      2\n",
      "89                        Romania     RO      2\n",
      "93                        Senegal     SN      2\n",
      "94                         Serbia     RS      2\n",
      "95                   Sierra Leone     SL      2\n",
      "22                       Colombia     CO      2\n",
      "21                          China     CN      2\n",
      "25                         Cyprus     CY      2\n",
      "17                       Cameroon     CM      2\n",
      "92                   Saudi Arabia     SA      2\n",
      "47                      Indonesia     ID      2\n",
      "15                       Bulgaria     BG      2\n",
      "12         Bosnia and Herzegovina     BA      2\n",
      "105                      Tanzania     TJ      2\n",
      "106                      Thailand     TJ      2\n",
      "107          The FYR of Macedonia     TJ      2\n",
      "11                        Bolivia     BO      2\n",
      "109                       Tunisia     TN      2\n",
      "110                        Turkey     TR      2\n",
      "111                        Uganda     UG      2\n",
      "10                          Benin     BJ      2\n",
      "8                      Bangladesh     BD      2\n",
      "7                         Bahrain     BH      2\n",
      "118                       Vietnam     VI      2\n",
      "1                         Algeria     DZ      2\n",
      "101                     Sri Lanka     LK      2\n",
      "29             Dominican Republic     DO      2\n",
      "85                    Philippines     PH      2\n",
      "84                           Peru     PE      2\n",
      "63                     Madagascar     MG      2\n",
      "40                          Ghana     GH      2\n",
      "41                         Greece     GR      2\n",
      "120                        Zambia     ZM      2\n",
      "59                         Latvia     LV      2\n",
      "58                         Kuwait     KW      2\n",
      "64                         Malawi     MW      2\n",
      "42                      Guatemala     GT      2\n",
      "55                     Kazakhstan     KZ      2\n",
      "54                         Jordan     JO      2\n",
      "43                       Honduras     HN      2\n",
      "52                        Jamaica     JM      2\n",
      "46                          India     IN      2\n",
      "50                         Israel     IL      2\n",
      "56                          Kenya     KE      2\n",
      "38                        Georgia     GE      2\n",
      "66                           Mali     ML      2\n",
      "67                     Mauritania     MR      2\n",
      "83                       Paraguay     PY      2\n",
      "82                         Panama     PA      2\n",
      "81                       Pakistan     PK      2\n",
      "80                           Oman     OM      2\n",
      "31                          Egypt     EG      2\n",
      "77                      Nicaragua     NI      2\n",
      "32                    El Salvador     SV      2\n",
      "34                       Ethiopia     ET      2\n",
      "74                          Nepal     NP      2\n",
      "73                     Mozambique     MZ      2\n",
      "72                        Morocco     MA      2\n",
      "71                     Montenegro     ME      2\n",
      "70                        Moldova     FM      2\n",
      "69                         Mexico     MX      2\n",
      "37                          Gabon     GA      2\n",
      "48                           Iran     ID      2\n",
      "0                         Albania     AL      2\n"
     ]
    }
   ],
   "source": [
    "result = pd.DataFrame({'Country':raw['Country'], 'Abbrev':raw['Abbrev'], 'Label':y})\n",
    "with pd.option_context('display.max_rows', None, 'display.max_columns', 3):\n",
    "    print(result.sort_values('Label'))\n"
   ]
  },
  {
   "cell_type": "code",
   "execution_count": 84,
   "metadata": {},
   "outputs": [
    {
     "name": "stdout",
     "output_type": "stream",
     "text": [
      "For n_clusters= 2 The average silhouette_score is : 0.3630420703158315\n",
      "For n_clusters= 3 The average silhouette_score is : 0.382300101041878\n",
      "For n_clusters= 4 The average silhouette_score is : 0.361833034268952\n",
      "For n_clusters= 5 The average silhouette_score is : 0.36098592493463394\n",
      "For n_clusters= 6 The average silhouette_score is : 0.3032386313570256\n",
      "For n_clusters= 7 The average silhouette_score is : 0.3030731753237569\n",
      "For n_clusters= 8 The average silhouette_score is : 0.31299199157406427\n",
      "For n_clusters= 9 The average silhouette_score is : 0.3001003239539114\n",
      "For n_clusters= 10 The average silhouette_score is : 0.294711375886461\n"
     ]
    }
   ],
   "source": [
    "# Silhouette Analysis\n",
    "range_n_clusters=[2,3,4,5,6,7,8,9,10]\n",
    "for n_clusters in range_n_clusters:\n",
    "    clusterer=KMeans(n_clusters=n_clusters, random_state=0)\n",
    "    cluster_labels=clusterer.fit_predict(X)\n",
    "    silhouette_avg=silhouette_score(X,cluster_labels)\n",
    "    print(\"For n_clusters=\", n_clusters,\n",
    "          \"The average silhouette_score is :\", silhouette_avg)"
   ]
  },
  {
   "cell_type": "markdown",
   "metadata": {},
   "source": [
    "# Introduction to Supervised Learning"
   ]
  },
  {
   "cell_type": "markdown",
   "metadata": {},
   "source": [
    "## Linear Regression"
   ]
  },
  {
   "cell_type": "markdown",
   "metadata": {},
   "source": [
    "A linear model makes a prediction by simply computing a weighted\n",
    "sum of the input features, plus a constant called the *bias* term (also called the *intercept*\n",
    "term):\n",
    "\n",
    "\\begin{equation}\n",
    "\\hat y = \\theta_0 + \\theta_1 x_1 + \\theta_2 x_2 + \\dots + \\theta_n x_n\n",
    "\\end{equation}\n",
    "\n",
    "where:\n",
    "\n",
    "- $\\hat y$ is the predicted value;\n",
    "- $n$ is the number of features;\n",
    "- $x_i$ is the $i^{th}$ feature value;\n",
    "- $\\theta_j$ is the $j^{th}$ model parameter (including the bias term $\\theta_0$ and the feature weights $\\theta_1, \\theta_2, \\dots, \\theta_n$\n",
    "\n",
    "Training a model means setting its parameters so that the model best fits the training set. For this purpose, we first need a measure of how well (or poorly) the model fits the training data. The most common performance measure of a regression model is the Root Mean Square Error (RMSE), therefore, to train a Linear Regression model, you need to find the value of θ that minimizes the RMSE. In practice, it is simpler to minimize the Mean Square Error (MSE) than the RMSE, and it leads to the same result.\n"
   ]
  },
  {
   "cell_type": "markdown",
   "metadata": {},
   "source": [
    "## A Practical Example from Kaggle Competition"
   ]
  },
  {
   "cell_type": "markdown",
   "metadata": {},
   "source": [
    "### The Problem\n",
    "\n",
    "The objective is to predict the prices of house in Iowa from features. We have 800 observations in training set, 600 in validation set, and 508 in test set"
   ]
  },
  {
   "cell_type": "markdown",
   "metadata": {},
   "source": [
    "### Loading data."
   ]
  },
  {
   "cell_type": "code",
   "execution_count": 85,
   "metadata": {},
   "outputs": [],
   "source": [
    "# Both features and target have already been scaled: mean = 0; SD = 1\n",
    "data = pd.read_csv('.\\data\\Houseprice_data_scaled.csv') "
   ]
  },
  {
   "cell_type": "markdown",
   "metadata": {},
   "source": [
    "First of all check how many records we have"
   ]
  },
  {
   "cell_type": "code",
   "execution_count": 86,
   "metadata": {},
   "outputs": [
    {
     "name": "stdout",
     "output_type": "stream",
     "text": [
      "Number of available data = 2908\n"
     ]
    }
   ],
   "source": [
    "print(\"Number of available data = \"  + str(len(data.index)))"
   ]
  },
  {
   "cell_type": "markdown",
   "metadata": {},
   "source": [
    "Before starting we emphasize the need to divide all available data into three parts: a **training set**, a **validation set** and a **test set**. The training set is used to determine parameters for trial models. The validation set is used to determine the extent to chich the models created from the training set generalize to new data. Finally, the test set is used as a final estimate of the accuracy of the chosen model. \n",
    "\n",
    "We had 2908 observations. We split this as follows: 1800 in the training set, 600 in the validation set and 508 in the test set."
   ]
  },
  {
   "cell_type": "code",
   "execution_count": 87,
   "metadata": {},
   "outputs": [],
   "source": [
    "# First 1800 data items are training set; the next 600 are the validation set\n",
    "train = data.iloc[:1800] \n",
    "val = data.iloc[1800:2400]"
   ]
  },
  {
   "cell_type": "markdown",
   "metadata": {},
   "source": [
    "We now procede to create **labels** and **features**. As we have already said, the labels are the values of the target that is to be predicted, in this case the 'Sale Price', and we indicate that whit 'y':"
   ]
  },
  {
   "cell_type": "code",
   "execution_count": 88,
   "metadata": {},
   "outputs": [],
   "source": [
    "y_train, y_val = train[['Sale Price']], val[['Sale Price']] "
   ]
  },
  {
   "cell_type": "markdown",
   "metadata": {},
   "source": [
    "The features are the variables from which the predictions are to be made and, in this case, can be obtained simply dropping the column 'Sale Price' from our dataset:"
   ]
  },
  {
   "cell_type": "code",
   "execution_count": 89,
   "metadata": {},
   "outputs": [],
   "source": [
    "X_train, X_val = train.drop('Sale Price', axis=1), val.drop('Sale Price', axis=1)"
   ]
  },
  {
   "cell_type": "code",
   "execution_count": 90,
   "metadata": {},
   "outputs": [
    {
     "data": {
      "text/plain": [
       "Index(['LotArea', 'OverallQual', 'OverallCond', 'YearBuilt', 'YearRemodAdd',\n",
       "       'BsmtFinSF1', 'BsmtUnfSF', 'TotalBsmtSF', '1stFlrSF', '2ndFlrSF',\n",
       "       'GrLivArea', 'FullBath', 'HalfBath', 'BedroomAbvGr', 'TotRmsAbvGrd',\n",
       "       'Fireplaces', 'GarageCars', 'GarageArea', 'WoodDeckSF', 'OpenPorchSF',\n",
       "       'EnclosedPorch', 'Blmngtn', 'Blueste', 'BrDale', 'BrkSide', 'ClearCr',\n",
       "       'CollgCr', 'Crawfor', 'Edwards', 'Gilbert', 'IDOTRR', 'MeadowV',\n",
       "       'Mitchel', 'Names', 'NoRidge', 'NPkVill', 'NriddgHt', 'NWAmes',\n",
       "       'OLDTown', 'SWISU', 'Sawyer', 'SawyerW', 'Somerst', 'StoneBr', 'Timber',\n",
       "       'Veenker', 'Bsmt Qual'],\n",
       "      dtype='object')"
      ]
     },
     "execution_count": 90,
     "metadata": {},
     "output_type": "execute_result"
    }
   ],
   "source": [
    "X_train.columns"
   ]
  },
  {
   "cell_type": "markdown",
   "metadata": {},
   "source": [
    "### Linear Regression with sklearn"
   ]
  },
  {
   "cell_type": "code",
   "execution_count": 100,
   "metadata": {},
   "outputs": [],
   "source": [
    "# Importing models\n",
    "from sklearn.linear_model import LinearRegression\n",
    "from sklearn.metrics import mean_squared_error as mse"
   ]
  },
  {
   "cell_type": "code",
   "execution_count": 101,
   "metadata": {},
   "outputs": [
    {
     "data": {
      "text/plain": [
       "LinearRegression()"
      ]
     },
     "execution_count": 101,
     "metadata": {},
     "output_type": "execute_result"
    }
   ],
   "source": [
    "lr = LinearRegression()\n",
    "lr.fit(X_train,y_train)"
   ]
  },
  {
   "cell_type": "code",
   "execution_count": 102,
   "metadata": {},
   "outputs": [
    {
     "data": {
      "text/plain": [
       "array([-3.06335941e-11])"
      ]
     },
     "execution_count": 102,
     "metadata": {},
     "output_type": "execute_result"
    }
   ],
   "source": [
    "lr.intercept_"
   ]
  },
  {
   "cell_type": "code",
   "execution_count": 103,
   "metadata": {},
   "outputs": [
    {
     "data": {
      "text/html": [
       "<div>\n",
       "<style scoped>\n",
       "    .dataframe tbody tr th:only-of-type {\n",
       "        vertical-align: middle;\n",
       "    }\n",
       "\n",
       "    .dataframe tbody tr th {\n",
       "        vertical-align: top;\n",
       "    }\n",
       "\n",
       "    .dataframe thead th {\n",
       "        text-align: right;\n",
       "    }\n",
       "</style>\n",
       "<table border=\"1\" class=\"dataframe\">\n",
       "  <thead>\n",
       "    <tr style=\"text-align: right;\">\n",
       "      <th></th>\n",
       "      <th>1</th>\n",
       "    </tr>\n",
       "    <tr>\n",
       "      <th>0</th>\n",
       "      <th></th>\n",
       "    </tr>\n",
       "  </thead>\n",
       "  <tbody>\n",
       "    <tr>\n",
       "      <th>intercept</th>\n",
       "      <td>-3.06336e-11</td>\n",
       "    </tr>\n",
       "    <tr>\n",
       "      <th>LotArea</th>\n",
       "      <td>0.0789996</td>\n",
       "    </tr>\n",
       "    <tr>\n",
       "      <th>OverallQual</th>\n",
       "      <td>0.214395</td>\n",
       "    </tr>\n",
       "    <tr>\n",
       "      <th>OverallCond</th>\n",
       "      <td>0.0964787</td>\n",
       "    </tr>\n",
       "    <tr>\n",
       "      <th>YearBuilt</th>\n",
       "      <td>0.160799</td>\n",
       "    </tr>\n",
       "    <tr>\n",
       "      <th>YearRemodAdd</th>\n",
       "      <td>0.0253524</td>\n",
       "    </tr>\n",
       "    <tr>\n",
       "      <th>BsmtFinSF1</th>\n",
       "      <td>0.0914664</td>\n",
       "    </tr>\n",
       "    <tr>\n",
       "      <th>BsmtUnfSF</th>\n",
       "      <td>-0.0330798</td>\n",
       "    </tr>\n",
       "    <tr>\n",
       "      <th>TotalBsmtSF</th>\n",
       "      <td>0.138199</td>\n",
       "    </tr>\n",
       "    <tr>\n",
       "      <th>1stFlrSF</th>\n",
       "      <td>0.152786</td>\n",
       "    </tr>\n",
       "    <tr>\n",
       "      <th>2ndFlrSF</th>\n",
       "      <td>0.132765</td>\n",
       "    </tr>\n",
       "    <tr>\n",
       "      <th>GrLivArea</th>\n",
       "      <td>0.161303</td>\n",
       "    </tr>\n",
       "    <tr>\n",
       "      <th>FullBath</th>\n",
       "      <td>-0.0208076</td>\n",
       "    </tr>\n",
       "    <tr>\n",
       "      <th>HalfBath</th>\n",
       "      <td>0.0171941</td>\n",
       "    </tr>\n",
       "    <tr>\n",
       "      <th>BedroomAbvGr</th>\n",
       "      <td>-0.0835202</td>\n",
       "    </tr>\n",
       "    <tr>\n",
       "      <th>TotRmsAbvGrd</th>\n",
       "      <td>0.0832203</td>\n",
       "    </tr>\n",
       "    <tr>\n",
       "      <th>Fireplaces</th>\n",
       "      <td>0.0282578</td>\n",
       "    </tr>\n",
       "    <tr>\n",
       "      <th>GarageCars</th>\n",
       "      <td>0.0379971</td>\n",
       "    </tr>\n",
       "    <tr>\n",
       "      <th>GarageArea</th>\n",
       "      <td>0.0518093</td>\n",
       "    </tr>\n",
       "    <tr>\n",
       "      <th>WoodDeckSF</th>\n",
       "      <td>0.0208337</td>\n",
       "    </tr>\n",
       "    <tr>\n",
       "      <th>OpenPorchSF</th>\n",
       "      <td>0.0340982</td>\n",
       "    </tr>\n",
       "    <tr>\n",
       "      <th>EnclosedPorch</th>\n",
       "      <td>0.00682223</td>\n",
       "    </tr>\n",
       "    <tr>\n",
       "      <th>Blmngtn</th>\n",
       "      <td>-0.0184305</td>\n",
       "    </tr>\n",
       "    <tr>\n",
       "      <th>Blueste</th>\n",
       "      <td>-0.0129214</td>\n",
       "    </tr>\n",
       "    <tr>\n",
       "      <th>BrDale</th>\n",
       "      <td>-0.0246262</td>\n",
       "    </tr>\n",
       "    <tr>\n",
       "      <th>BrkSide</th>\n",
       "      <td>0.0207618</td>\n",
       "    </tr>\n",
       "    <tr>\n",
       "      <th>ClearCr</th>\n",
       "      <td>-0.00737828</td>\n",
       "    </tr>\n",
       "    <tr>\n",
       "      <th>CollgCr</th>\n",
       "      <td>-0.00675362</td>\n",
       "    </tr>\n",
       "    <tr>\n",
       "      <th>Crawfor</th>\n",
       "      <td>0.0363235</td>\n",
       "    </tr>\n",
       "    <tr>\n",
       "      <th>Edwards</th>\n",
       "      <td>-0.000690065</td>\n",
       "    </tr>\n",
       "    <tr>\n",
       "      <th>Gilbert</th>\n",
       "      <td>-0.00834022</td>\n",
       "    </tr>\n",
       "    <tr>\n",
       "      <th>IDOTRR</th>\n",
       "      <td>-0.00153683</td>\n",
       "    </tr>\n",
       "    <tr>\n",
       "      <th>MeadowV</th>\n",
       "      <td>-0.016418</td>\n",
       "    </tr>\n",
       "    <tr>\n",
       "      <th>Mitchel</th>\n",
       "      <td>-0.0284821</td>\n",
       "    </tr>\n",
       "    <tr>\n",
       "      <th>Names</th>\n",
       "      <td>-0.0385057</td>\n",
       "    </tr>\n",
       "    <tr>\n",
       "      <th>NoRidge</th>\n",
       "      <td>0.0515626</td>\n",
       "    </tr>\n",
       "    <tr>\n",
       "      <th>NPkVill</th>\n",
       "      <td>-0.0219519</td>\n",
       "    </tr>\n",
       "    <tr>\n",
       "      <th>NriddgHt</th>\n",
       "      <td>0.12399</td>\n",
       "    </tr>\n",
       "    <tr>\n",
       "      <th>NWAmes</th>\n",
       "      <td>-0.0517591</td>\n",
       "    </tr>\n",
       "    <tr>\n",
       "      <th>OLDTown</th>\n",
       "      <td>-0.026499</td>\n",
       "    </tr>\n",
       "    <tr>\n",
       "      <th>SWISU</th>\n",
       "      <td>-0.00414298</td>\n",
       "    </tr>\n",
       "    <tr>\n",
       "      <th>Sawyer</th>\n",
       "      <td>-0.0181341</td>\n",
       "    </tr>\n",
       "    <tr>\n",
       "      <th>SawyerW</th>\n",
       "      <td>-0.0282754</td>\n",
       "    </tr>\n",
       "    <tr>\n",
       "      <th>Somerst</th>\n",
       "      <td>0.0275063</td>\n",
       "    </tr>\n",
       "    <tr>\n",
       "      <th>StoneBr</th>\n",
       "      <td>0.0630586</td>\n",
       "    </tr>\n",
       "    <tr>\n",
       "      <th>Timber</th>\n",
       "      <td>-0.00276173</td>\n",
       "    </tr>\n",
       "    <tr>\n",
       "      <th>Veenker</th>\n",
       "      <td>0.00240311</td>\n",
       "    </tr>\n",
       "    <tr>\n",
       "      <th>Bsmt Qual</th>\n",
       "      <td>0.0113115</td>\n",
       "    </tr>\n",
       "  </tbody>\n",
       "</table>\n",
       "</div>"
      ],
      "text/plain": [
       "                         1\n",
       "0                         \n",
       "intercept     -3.06336e-11\n",
       "LotArea          0.0789996\n",
       "OverallQual       0.214395\n",
       "OverallCond      0.0964787\n",
       "YearBuilt         0.160799\n",
       "YearRemodAdd     0.0253524\n",
       "BsmtFinSF1       0.0914664\n",
       "BsmtUnfSF       -0.0330798\n",
       "TotalBsmtSF       0.138199\n",
       "1stFlrSF          0.152786\n",
       "2ndFlrSF          0.132765\n",
       "GrLivArea         0.161303\n",
       "FullBath        -0.0208076\n",
       "HalfBath         0.0171941\n",
       "BedroomAbvGr    -0.0835202\n",
       "TotRmsAbvGrd     0.0832203\n",
       "Fireplaces       0.0282578\n",
       "GarageCars       0.0379971\n",
       "GarageArea       0.0518093\n",
       "WoodDeckSF       0.0208337\n",
       "OpenPorchSF      0.0340982\n",
       "EnclosedPorch   0.00682223\n",
       "Blmngtn         -0.0184305\n",
       "Blueste         -0.0129214\n",
       "BrDale          -0.0246262\n",
       "BrkSide          0.0207618\n",
       "ClearCr        -0.00737828\n",
       "CollgCr        -0.00675362\n",
       "Crawfor          0.0363235\n",
       "Edwards       -0.000690065\n",
       "Gilbert        -0.00834022\n",
       "IDOTRR         -0.00153683\n",
       "MeadowV          -0.016418\n",
       "Mitchel         -0.0284821\n",
       "Names           -0.0385057\n",
       "NoRidge          0.0515626\n",
       "NPkVill         -0.0219519\n",
       "NriddgHt           0.12399\n",
       "NWAmes          -0.0517591\n",
       "OLDTown          -0.026499\n",
       "SWISU          -0.00414298\n",
       "Sawyer          -0.0181341\n",
       "SawyerW         -0.0282754\n",
       "Somerst          0.0275063\n",
       "StoneBr          0.0630586\n",
       "Timber         -0.00276173\n",
       "Veenker         0.00240311\n",
       "Bsmt Qual        0.0113115"
      ]
     },
     "execution_count": 103,
     "metadata": {},
     "output_type": "execute_result"
    }
   ],
   "source": [
    "# Create dataFrame with corresponding feature and its respective coefficients\n",
    "coeffs = pd.DataFrame(\n",
    "    [\n",
    "        ['intercept'] + list(X_train.columns),\n",
    "        list(lr.intercept_) + list(lr.coef_[0])\n",
    "    ]\n",
    ").transpose().set_index(0)\n",
    "coeffs"
   ]
  },
  {
   "cell_type": "code",
   "execution_count": 104,
   "metadata": {},
   "outputs": [
    {
     "data": {
      "text/plain": [
       "48"
      ]
     },
     "execution_count": 104,
     "metadata": {},
     "output_type": "execute_result"
    }
   ],
   "source": [
    "len(coeffs.index)"
   ]
  },
  {
   "cell_type": "code",
   "execution_count": 105,
   "metadata": {},
   "outputs": [
    {
     "data": {
      "text/plain": [
       "0.5347396038733943"
      ]
     },
     "execution_count": 105,
     "metadata": {},
     "output_type": "execute_result"
    }
   ],
   "source": [
    "x1 = X_train['GrLivArea']\n",
    "x2 = X_train['BedroomAbvGr']\n",
    "x1.corr(x2)"
   ]
  },
  {
   "cell_type": "markdown",
   "metadata": {},
   "source": [
    "###### Ridge Regression"
   ]
  },
  {
   "cell_type": "code",
   "execution_count": 106,
   "metadata": {},
   "outputs": [],
   "source": [
    "# Importing Ridge\n",
    "from sklearn.linear_model import Ridge"
   ]
  },
  {
   "cell_type": "code",
   "execution_count": 107,
   "metadata": {
    "scrolled": true
   },
   "outputs": [
    {
     "name": "stdout",
     "output_type": "stream",
     "text": [
      "0.11703284346091351\n",
      "0.11710797319753011\n",
      "0.11723952924901129\n",
      "0.11741457158889518\n",
      "0.11762384068711469\n",
      "0.11825709631198025\n",
      "0.11900057469147929\n",
      "0.12254649996292954\n",
      "0.1307359968074713\n"
     ]
    }
   ],
   "source": [
    "# The alpha used by Python's ridge should be the lambda in Hull's book times the number of observations\n",
    "alphas=[0.01*1800, 0.02*1800, 0.03*1800, 0.04*1800, 0.05*1800, 0.075*1800,0.1*1800,0.2*1800, 0.4*1800]\n",
    "mses=[]\n",
    "for alpha in alphas:\n",
    "    ridge=Ridge(alpha=alpha)\n",
    "    ridge.fit(X_train,y_train)\n",
    "    pred=ridge.predict(X_val)\n",
    "    mses.append(mse(y_val,pred))\n",
    "    print(mse(y_val,pred))"
   ]
  },
  {
   "cell_type": "code",
   "execution_count": 108,
   "metadata": {},
   "outputs": [
    {
     "data": {
      "text/plain": [
       "[<matplotlib.lines.Line2D at 0x1a1da45d588>]"
      ]
     },
     "execution_count": 108,
     "metadata": {},
     "output_type": "execute_result"
    },
    {
     "data": {
      "image/png": "[encoded data removed]",
      "text/plain": [
       "<Figure size 432x288 with 1 Axes>"
      ]
     },
     "metadata": {
      "needs_background": "light"
     },
     "output_type": "display_data"
    }
   ],
   "source": [
    "plt.plot(alphas, mses)"
   ]
  },
  {
   "cell_type": "markdown",
   "metadata": {},
   "source": [
    "###### Lasso"
   ]
  },
  {
   "cell_type": "code",
   "execution_count": 109,
   "metadata": {},
   "outputs": [],
   "source": [
    "# Import Lasso\n",
    "from sklearn.linear_model import Lasso"
   ]
  },
  {
   "cell_type": "code",
   "execution_count": 110,
   "metadata": {},
   "outputs": [
    {
     "data": {
      "text/plain": [
       "Lasso(alpha=0.05)"
      ]
     },
     "execution_count": 110,
     "metadata": {},
     "output_type": "execute_result"
    }
   ],
   "source": [
    "# Here we produce results for alpha=0.05 which corresponds to lambda=0.1 in Hull's book\n",
    "lasso = Lasso(alpha=0.05)\n",
    "lasso.fit(X_train, y_train)"
   ]
  },
  {
   "cell_type": "code",
   "execution_count": 111,
   "metadata": {},
   "outputs": [
    {
     "data": {
      "text/html": [
       "<div>\n",
       "<style scoped>\n",
       "    .dataframe tbody tr th:only-of-type {\n",
       "        vertical-align: middle;\n",
       "    }\n",
       "\n",
       "    .dataframe tbody tr th {\n",
       "        vertical-align: top;\n",
       "    }\n",
       "\n",
       "    .dataframe thead th {\n",
       "        text-align: right;\n",
       "    }\n",
       "</style>\n",
       "<table border=\"1\" class=\"dataframe\">\n",
       "  <thead>\n",
       "    <tr style=\"text-align: right;\">\n",
       "      <th></th>\n",
       "      <th>1</th>\n",
       "    </tr>\n",
       "    <tr>\n",
       "      <th>0</th>\n",
       "      <th></th>\n",
       "    </tr>\n",
       "  </thead>\n",
       "  <tbody>\n",
       "    <tr>\n",
       "      <th>intercept</th>\n",
       "      <td>-1.25303e-11</td>\n",
       "    </tr>\n",
       "    <tr>\n",
       "      <th>LotArea</th>\n",
       "      <td>0.0443042</td>\n",
       "    </tr>\n",
       "    <tr>\n",
       "      <th>OverallQual</th>\n",
       "      <td>0.298079</td>\n",
       "    </tr>\n",
       "    <tr>\n",
       "      <th>OverallCond</th>\n",
       "      <td>0</td>\n",
       "    </tr>\n",
       "    <tr>\n",
       "      <th>YearBuilt</th>\n",
       "      <td>0.0520907</td>\n",
       "    </tr>\n",
       "    <tr>\n",
       "      <th>YearRemodAdd</th>\n",
       "      <td>0.0644712</td>\n",
       "    </tr>\n",
       "    <tr>\n",
       "      <th>BsmtFinSF1</th>\n",
       "      <td>0.115875</td>\n",
       "    </tr>\n",
       "    <tr>\n",
       "      <th>BsmtUnfSF</th>\n",
       "      <td>-0</td>\n",
       "    </tr>\n",
       "    <tr>\n",
       "      <th>TotalBsmtSF</th>\n",
       "      <td>0.10312</td>\n",
       "    </tr>\n",
       "    <tr>\n",
       "      <th>1stFlrSF</th>\n",
       "      <td>0.0322946</td>\n",
       "    </tr>\n",
       "    <tr>\n",
       "      <th>2ndFlrSF</th>\n",
       "      <td>0</td>\n",
       "    </tr>\n",
       "    <tr>\n",
       "      <th>GrLivArea</th>\n",
       "      <td>0.297065</td>\n",
       "    </tr>\n",
       "    <tr>\n",
       "      <th>FullBath</th>\n",
       "      <td>0</td>\n",
       "    </tr>\n",
       "    <tr>\n",
       "      <th>HalfBath</th>\n",
       "      <td>0</td>\n",
       "    </tr>\n",
       "    <tr>\n",
       "      <th>BedroomAbvGr</th>\n",
       "      <td>-0</td>\n",
       "    </tr>\n",
       "    <tr>\n",
       "      <th>TotRmsAbvGrd</th>\n",
       "      <td>0</td>\n",
       "    </tr>\n",
       "    <tr>\n",
       "      <th>Fireplaces</th>\n",
       "      <td>0.0204043</td>\n",
       "    </tr>\n",
       "    <tr>\n",
       "      <th>GarageCars</th>\n",
       "      <td>0.027512</td>\n",
       "    </tr>\n",
       "    <tr>\n",
       "      <th>GarageArea</th>\n",
       "      <td>0.0664096</td>\n",
       "    </tr>\n",
       "    <tr>\n",
       "      <th>WoodDeckSF</th>\n",
       "      <td>0.00102883</td>\n",
       "    </tr>\n",
       "    <tr>\n",
       "      <th>OpenPorchSF</th>\n",
       "      <td>0.00215018</td>\n",
       "    </tr>\n",
       "    <tr>\n",
       "      <th>EnclosedPorch</th>\n",
       "      <td>-0</td>\n",
       "    </tr>\n",
       "    <tr>\n",
       "      <th>Blmngtn</th>\n",
       "      <td>-0</td>\n",
       "    </tr>\n",
       "    <tr>\n",
       "      <th>Blueste</th>\n",
       "      <td>-0</td>\n",
       "    </tr>\n",
       "    <tr>\n",
       "      <th>BrDale</th>\n",
       "      <td>-0</td>\n",
       "    </tr>\n",
       "    <tr>\n",
       "      <th>BrkSide</th>\n",
       "      <td>0</td>\n",
       "    </tr>\n",
       "    <tr>\n",
       "      <th>ClearCr</th>\n",
       "      <td>0</td>\n",
       "    </tr>\n",
       "    <tr>\n",
       "      <th>CollgCr</th>\n",
       "      <td>-0</td>\n",
       "    </tr>\n",
       "    <tr>\n",
       "      <th>Crawfor</th>\n",
       "      <td>0</td>\n",
       "    </tr>\n",
       "    <tr>\n",
       "      <th>Edwards</th>\n",
       "      <td>-0</td>\n",
       "    </tr>\n",
       "    <tr>\n",
       "      <th>Gilbert</th>\n",
       "      <td>0</td>\n",
       "    </tr>\n",
       "    <tr>\n",
       "      <th>IDOTRR</th>\n",
       "      <td>-0</td>\n",
       "    </tr>\n",
       "    <tr>\n",
       "      <th>MeadowV</th>\n",
       "      <td>-0</td>\n",
       "    </tr>\n",
       "    <tr>\n",
       "      <th>Mitchel</th>\n",
       "      <td>-0</td>\n",
       "    </tr>\n",
       "    <tr>\n",
       "      <th>Names</th>\n",
       "      <td>-0</td>\n",
       "    </tr>\n",
       "    <tr>\n",
       "      <th>NoRidge</th>\n",
       "      <td>0.013209</td>\n",
       "    </tr>\n",
       "    <tr>\n",
       "      <th>NPkVill</th>\n",
       "      <td>-0</td>\n",
       "    </tr>\n",
       "    <tr>\n",
       "      <th>NriddgHt</th>\n",
       "      <td>0.0842993</td>\n",
       "    </tr>\n",
       "    <tr>\n",
       "      <th>NWAmes</th>\n",
       "      <td>-0</td>\n",
       "    </tr>\n",
       "    <tr>\n",
       "      <th>OLDTown</th>\n",
       "      <td>-0</td>\n",
       "    </tr>\n",
       "    <tr>\n",
       "      <th>SWISU</th>\n",
       "      <td>-0</td>\n",
       "    </tr>\n",
       "    <tr>\n",
       "      <th>Sawyer</th>\n",
       "      <td>-0</td>\n",
       "    </tr>\n",
       "    <tr>\n",
       "      <th>SawyerW</th>\n",
       "      <td>-0</td>\n",
       "    </tr>\n",
       "    <tr>\n",
       "      <th>Somerst</th>\n",
       "      <td>0</td>\n",
       "    </tr>\n",
       "    <tr>\n",
       "      <th>StoneBr</th>\n",
       "      <td>0.0168153</td>\n",
       "    </tr>\n",
       "    <tr>\n",
       "      <th>Timber</th>\n",
       "      <td>0</td>\n",
       "    </tr>\n",
       "    <tr>\n",
       "      <th>Veenker</th>\n",
       "      <td>0</td>\n",
       "    </tr>\n",
       "    <tr>\n",
       "      <th>Bsmt Qual</th>\n",
       "      <td>0.0202754</td>\n",
       "    </tr>\n",
       "  </tbody>\n",
       "</table>\n",
       "</div>"
      ],
      "text/plain": [
       "                         1\n",
       "0                         \n",
       "intercept     -1.25303e-11\n",
       "LotArea          0.0443042\n",
       "OverallQual       0.298079\n",
       "OverallCond              0\n",
       "YearBuilt        0.0520907\n",
       "YearRemodAdd     0.0644712\n",
       "BsmtFinSF1        0.115875\n",
       "BsmtUnfSF               -0\n",
       "TotalBsmtSF        0.10312\n",
       "1stFlrSF         0.0322946\n",
       "2ndFlrSF                 0\n",
       "GrLivArea         0.297065\n",
       "FullBath                 0\n",
       "HalfBath                 0\n",
       "BedroomAbvGr            -0\n",
       "TotRmsAbvGrd             0\n",
       "Fireplaces       0.0204043\n",
       "GarageCars        0.027512\n",
       "GarageArea       0.0664096\n",
       "WoodDeckSF      0.00102883\n",
       "OpenPorchSF     0.00215018\n",
       "EnclosedPorch           -0\n",
       "Blmngtn                 -0\n",
       "Blueste                 -0\n",
       "BrDale                  -0\n",
       "BrkSide                  0\n",
       "ClearCr                  0\n",
       "CollgCr                 -0\n",
       "Crawfor                  0\n",
       "Edwards                 -0\n",
       "Gilbert                  0\n",
       "IDOTRR                  -0\n",
       "MeadowV                 -0\n",
       "Mitchel                 -0\n",
       "Names                   -0\n",
       "NoRidge           0.013209\n",
       "NPkVill                 -0\n",
       "NriddgHt         0.0842993\n",
       "NWAmes                  -0\n",
       "OLDTown                 -0\n",
       "SWISU                   -0\n",
       "Sawyer                  -0\n",
       "SawyerW                 -0\n",
       "Somerst                  0\n",
       "StoneBr          0.0168153\n",
       "Timber                   0\n",
       "Veenker                  0\n",
       "Bsmt Qual        0.0202754"
      ]
     },
     "execution_count": 111,
     "metadata": {},
     "output_type": "execute_result"
    }
   ],
   "source": [
    "# DataFrame with corresponding feature and its respective coefficients\n",
    "coeffs = pd.DataFrame(\n",
    "    [\n",
    "        ['intercept'] + list(X_train.columns),\n",
    "        list(lasso.intercept_) + list(lasso.coef_)\n",
    "    ]\n",
    ").transpose().set_index(0)\n",
    "coeffs"
   ]
  },
  {
   "cell_type": "markdown",
   "metadata": {},
   "source": [
    "###### Lasso with different levels of alpha and its mse"
   ]
  },
  {
   "cell_type": "code",
   "execution_count": 112,
   "metadata": {},
   "outputs": [
    {
     "name": "stdout",
     "output_type": "stream",
     "text": [
      "0.1165475190960879\n",
      "0.11682687945311095\n",
      "0.1180334835313203\n",
      "0.12012836764958998\n",
      "0.12301536903084044\n",
      "0.13178576395045632\n",
      "0.14017194584483775\n"
     ]
    }
   ],
   "source": [
    "# We now consider different lambda values. The alphas are half the lambdas\n",
    "alphas=[0.01/2, 0.02/2, 0.03/2, 0.04/2, 0.05/2, 0.075/2, 0.1/2]\n",
    "mses=[]\n",
    "for alpha in alphas:\n",
    "    lasso=Lasso(alpha=alpha)\n",
    "    lasso.fit(X_train,y_train)\n",
    "    pred=lasso.predict(X_val)\n",
    "    mses.append(mse(y_val,pred))\n",
    "    print(mse(y_val, pred))"
   ]
  },
  {
   "cell_type": "code",
   "execution_count": 113,
   "metadata": {},
   "outputs": [
    {
     "data": {
      "text/plain": [
       "[<matplotlib.lines.Line2D at 0x1a1cea06848>]"
      ]
     },
     "execution_count": 113,
     "metadata": {},
     "output_type": "execute_result"
    },
    {
     "data": {
      "image/png": "[encoded data removed]",
      "text/plain": [
       "<Figure size 432x288 with 1 Axes>"
      ]
     },
     "metadata": {
      "needs_background": "light"
     },
     "output_type": "display_data"
    }
   ],
   "source": [
    "plt.plot(alphas, mses)"
   ]
  },
  {
   "cell_type": "markdown",
   "metadata": {},
   "source": [
    "# References"
   ]
  },
  {
   "cell_type": "markdown",
   "metadata": {},
   "source": [
    "John C. Hull, **Machine Learning in Business: An Introduction to the World of Data Science**, Amazon, 2019.\n",
    "\n",
    "Paul Wilmott, **Machine Learning: An Applied Mathematics Introduction**, Panda Ohana Publishing, 2019."
   ]
  }
 ],
 "metadata": {
  "kernelspec": {
   "display_name": "Python 3",
   "language": "python",
   "name": "python3"
  },
  "language_info": {
   "codemirror_mode": {
    "name": "ipython",
    "version": 3
   },
   "file_extension": ".py",
   "mimetype": "text/x-python",
   "name": "python",
   "nbconvert_exporter": "python",
   "pygments_lexer": "ipython3",
   "version": "3.7.4"
  },
  "toc": {
   "base_numbering": 1,
   "nav_menu": {},
   "number_sections": true,
   "sideBar": true,
   "skip_h1_title": false,
   "title_cell": "Table of Contents",
   "title_sidebar": "Contents",
   "toc_cell": false,
   "toc_position": {
    "height": "calc(100% - 180px)",
    "left": "10px",
    "top": "150px",
    "width": "289px"
   },
   "toc_section_display": true,
   "toc_window_display": false
  }
 },
 "nbformat": 4,
 "nbformat_minor": 4
}
